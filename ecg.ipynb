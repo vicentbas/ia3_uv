{
  "nbformat": 4,
  "nbformat_minor": 0,
  "metadata": {
    "colab": {
      "name": "ecg.ipynb",
      "provenance": [],
      "collapsed_sections": [],
      "toc_visible": true,
      "authorship_tag": "ABX9TyMvYhCiOoG35SXTcrKo89GW",
      "include_colab_link": true
    },
    "kernelspec": {
      "name": "python3",
      "display_name": "Python 3"
    }
  },
  "cells": [
    {
      "cell_type": "markdown",
      "metadata": {
        "id": "view-in-github",
        "colab_type": "text"
      },
      "source": [
        "<a href=\"https://colab.research.google.com/github/vicentbas/ia3_uv/blob/main/ecg.ipynb\" target=\"_parent\"><img src=\"https://colab.research.google.com/assets/colab-badge.svg\" alt=\"Open In Colab\"/></a>"
      ]
    },
    {
      "cell_type": "markdown",
      "metadata": {
        "id": "Rx_25247bAB5"
      },
      "source": [
        "![IDAL](https://i.imgur.com/tIKXIG1.jpg)  \r\n",
        "\r\n",
        "#**Máster en Inteligencia Artificial Avanzada y Aplicada:  IA^3**\r\n",
        "---\r\n",
        "# Trabajo evaluación bloque 2: Clasificador de electrocardiogramas mediante LSTM"
      ]
    },
    {
      "cell_type": "markdown",
      "metadata": {
        "id": "AxGr__NYbWxj"
      },
      "source": [
        "#<strong><center> ECG analyzer </strong>\r\n",
        "\r\n",
        "El objetivo del siguiente proyecto es crear un clasificador de electrocardiogramas, capaz de diferencias entre estudios patológicos y estudios normales. Como entrada al proyecto se utilzan ficheros XML exportados desde el sistema Philips IntelliSpace ECG B.00.02 en formato XML FDA para electrocardiografos de 12 derivaciones."
      ]
    },
    {
      "cell_type": "code",
      "metadata": {
        "id": "JRM-coD6majo"
      },
      "source": [
        "from xml.dom import minidom\r\n",
        "from os import listdir\r\n",
        "from sklearn.preprocessing import MinMaxScaler\r\n",
        "from sklearn import preprocessing\r\n",
        "from sklearn.model_selection import train_test_split\r\n",
        "\r\n",
        "from keras.models import Sequential, Model, load_model\r\n",
        "from keras.layers import LSTM, Dense, Input, Concatenate, GlobalMaxPooling1D, BatchNormalization, Activation, TimeDistributed\r\n",
        "from keras.optimizers import Adam\r\n",
        "from tensorflow import keras\r\n",
        "\r\n",
        "import re\r\n",
        "import pandas as pd \r\n",
        "import numpy as np\r\n",
        "import matplotlib.pyplot as plt"
      ],
      "execution_count": 1,
      "outputs": []
    },
    {
      "cell_type": "code",
      "metadata": {
        "id": "dTTYa9T9Z2_A"
      },
      "source": [
        "def extract_data_estruct3(file):\r\n",
        "  data = pd.DataFrame({'lead':[],'mV':[], 'severity':[]})\r\n",
        "  lead=[]\r\n",
        "  mV=[]\r\n",
        "  severity=[]\r\n",
        "  ecg_xml_diag = minidom.parse(file.split(\".\")[0]+\".\"+file.split(\".\")[3]) \r\n",
        "  ecg_xml_severity = ecg_xml_diag.getElementsByTagName('severity')\r\n",
        "  ecg_severity = ecg_xml_severity[0].firstChild.data\r\n",
        "  ecg_xml = minidom.parse(file) \r\n",
        "  ecg_leads_mvs = ecg_xml.getElementsByTagName('digits')\r\n",
        "  for idx, ecg_leads_mv in enumerate(ecg_leads_mvs):\r\n",
        "    if idx < 12:\r\n",
        "      ecg_leads_mv = ecg_leads_mv.firstChild.data\r\n",
        "      ecg_leads_mv = ecg_leads_mv.replace(\"\\n\",\"\")\r\n",
        "      ecg_leads_mv = ecg_leads_mv.replace(\"\\t\",\"\")\r\n",
        "      ecg_leads_mv = ecg_leads_mv.replace(\"  \",\"\")\r\n",
        "      ecg_leads_mv = ecg_leads_mv.replace(\"  \",\"\")\r\n",
        "      ecg_leads_mv = ecg_leads_mv.split(\" \")[:-1]\r\n",
        "      ecg_leads_mv2 = np.array(ecg_leads_mv,dtype=float)\r\n",
        "      lead.append(idx)\r\n",
        "      mV.append(ecg_leads_mv)\r\n",
        "      #severity = float(ecg_severity)\r\n",
        "      severity.append(float(ecg_severity))\r\n",
        "      data = data.append(pd.DataFrame({'lead':idx,'mV':[ecg_leads_mv2], 'severity':float(ecg_severity)}), ignore_index=True)\r\n",
        "  return data, lead, mV, severity"
      ],
      "execution_count": 2,
      "outputs": []
    },
    {
      "cell_type": "code",
      "metadata": {
        "id": "VlVIpLE7Z2x3"
      },
      "source": [
        "ecg_studies_e3 = pd.DataFrame({'lead':[],'mV':[], 'severity':[]})\r\n",
        "lead=[]\r\n",
        "mV=[]\r\n",
        "severity=[]\r\n",
        "for file in listdir('/content/ecg/'):\r\n",
        "  if \"fda\" in file:\r\n",
        "    data, lead_, mV_, severity_ = extract_data_estruct3('/content/ecg/'+file)\r\n",
        "    lead.append(lead_)\r\n",
        "    mV.append(mV_)\r\n",
        "    severity.append(severity_)\r\n",
        "    ecg_studies_e3 = ecg_studies_e3.append(data, ignore_index=True)"
      ],
      "execution_count": 3,
      "outputs": []
    },
    {
      "cell_type": "markdown",
      "metadata": {
        "id": "VIQgSiuAquWs"
      },
      "source": [
        "# Understanding data structure\r\n",
        "Anidación de dataframes, con un primer nivel para estudios y un segundo nivel para cada una de las derivaciones.\r\n",
        "\r\n",
        "**Severity:**\r\n",
        "\r\n",
        "0 = estudio normal\r\n",
        "\r\n",
        "1 = estudio fuera de lo normal"
      ]
    },
    {
      "cell_type": "code",
      "metadata": {
        "colab": {
          "base_uri": "https://localhost:8080/",
          "height": 1000
        },
        "id": "pkNCHBJTo0ld",
        "outputId": "c46eb19c-740b-445e-fd79-f3b9e16f3f59"
      },
      "source": [
        "ecg_studies_e3"
      ],
      "execution_count": 4,
      "outputs": [
        {
          "output_type": "execute_result",
          "data": {
            "text/html": [
              "<div>\n",
              "<style scoped>\n",
              "    .dataframe tbody tr th:only-of-type {\n",
              "        vertical-align: middle;\n",
              "    }\n",
              "\n",
              "    .dataframe tbody tr th {\n",
              "        vertical-align: top;\n",
              "    }\n",
              "\n",
              "    .dataframe thead th {\n",
              "        text-align: right;\n",
              "    }\n",
              "</style>\n",
              "<table border=\"1\" class=\"dataframe\">\n",
              "  <thead>\n",
              "    <tr style=\"text-align: right;\">\n",
              "      <th></th>\n",
              "      <th>lead</th>\n",
              "      <th>mV</th>\n",
              "      <th>severity</th>\n",
              "    </tr>\n",
              "  </thead>\n",
              "  <tbody>\n",
              "    <tr>\n",
              "      <th>0</th>\n",
              "      <td>0.0</td>\n",
              "      <td>[-6.0, -6.0, -6.0, -7.0, -8.0, -10.0, -10.0, -...</td>\n",
              "      <td>1.0</td>\n",
              "    </tr>\n",
              "    <tr>\n",
              "      <th>1</th>\n",
              "      <td>1.0</td>\n",
              "      <td>[-5.0, -7.0, -6.0, -6.0, -8.0, -11.0, -11.0, -...</td>\n",
              "      <td>1.0</td>\n",
              "    </tr>\n",
              "    <tr>\n",
              "      <th>2</th>\n",
              "      <td>2.0</td>\n",
              "      <td>[1.0, 0.0, 0.0, 0.0, 1.0, -1.0, 0.0, 1.0, 0.0,...</td>\n",
              "      <td>1.0</td>\n",
              "    </tr>\n",
              "    <tr>\n",
              "      <th>3</th>\n",
              "      <td>3.0</td>\n",
              "      <td>[5.0, 6.0, 6.0, 6.0, 8.0, 10.0, 10.0, 7.0, 6.0...</td>\n",
              "      <td>1.0</td>\n",
              "    </tr>\n",
              "    <tr>\n",
              "      <th>4</th>\n",
              "      <td>4.0</td>\n",
              "      <td>[-3.0, -2.0, -3.0, -4.0, -4.0, -5.0, -4.0, -4....</td>\n",
              "      <td>1.0</td>\n",
              "    </tr>\n",
              "    <tr>\n",
              "      <th>5</th>\n",
              "      <td>5.0</td>\n",
              "      <td>[-2.0, -3.0, -2.0, -2.0, -4.0, -6.0, -6.0, -3....</td>\n",
              "      <td>1.0</td>\n",
              "    </tr>\n",
              "    <tr>\n",
              "      <th>6</th>\n",
              "      <td>6.0</td>\n",
              "      <td>[-1.0, 0.0, -2.0, -4.0, -3.0, -3.0, -4.0, -3.0...</td>\n",
              "      <td>1.0</td>\n",
              "    </tr>\n",
              "    <tr>\n",
              "      <th>7</th>\n",
              "      <td>7.0</td>\n",
              "      <td>[-2.0, -1.0, -2.0, -5.0, -6.0, -6.0, -7.0, -6....</td>\n",
              "      <td>1.0</td>\n",
              "    </tr>\n",
              "    <tr>\n",
              "      <th>8</th>\n",
              "      <td>8.0</td>\n",
              "      <td>[-9.0, -7.0, -9.0, -12.0, -13.0, -12.0, -14.0,...</td>\n",
              "      <td>1.0</td>\n",
              "    </tr>\n",
              "    <tr>\n",
              "      <th>9</th>\n",
              "      <td>9.0</td>\n",
              "      <td>[-12.0, -10.0, -12.0, -14.0, -16.0, -14.0, -15...</td>\n",
              "      <td>1.0</td>\n",
              "    </tr>\n",
              "    <tr>\n",
              "      <th>10</th>\n",
              "      <td>10.0</td>\n",
              "      <td>[-10.0, -10.0, -11.0, -13.0, -13.0, -13.0, -14...</td>\n",
              "      <td>1.0</td>\n",
              "    </tr>\n",
              "    <tr>\n",
              "      <th>11</th>\n",
              "      <td>11.0</td>\n",
              "      <td>[-8.0, -5.0, -8.0, -10.0, -12.0, -9.0, -12.0, ...</td>\n",
              "      <td>1.0</td>\n",
              "    </tr>\n",
              "    <tr>\n",
              "      <th>12</th>\n",
              "      <td>0.0</td>\n",
              "      <td>[-79.0, -73.0, -69.0, -64.0, -68.0, -71.0, -72...</td>\n",
              "      <td>0.0</td>\n",
              "    </tr>\n",
              "    <tr>\n",
              "      <th>13</th>\n",
              "      <td>1.0</td>\n",
              "      <td>[-68.0, -64.0, -63.0, -56.0, -53.0, -52.0, -50...</td>\n",
              "      <td>0.0</td>\n",
              "    </tr>\n",
              "    <tr>\n",
              "      <th>14</th>\n",
              "      <td>2.0</td>\n",
              "      <td>[11.0, 8.0, 6.0, 8.0, 16.0, 20.0, 22.0, 23.0, ...</td>\n",
              "      <td>0.0</td>\n",
              "    </tr>\n",
              "    <tr>\n",
              "      <th>15</th>\n",
              "      <td>3.0</td>\n",
              "      <td>[73.0, 68.0, 66.0, 60.0, 60.0, 61.0, 60.0, 62....</td>\n",
              "      <td>0.0</td>\n",
              "    </tr>\n",
              "    <tr>\n",
              "      <th>16</th>\n",
              "      <td>4.0</td>\n",
              "      <td>[-45.0, -40.0, -37.0, -36.0, -42.0, -45.0, -46...</td>\n",
              "      <td>0.0</td>\n",
              "    </tr>\n",
              "    <tr>\n",
              "      <th>17</th>\n",
              "      <td>5.0</td>\n",
              "      <td>[-28.0, -27.0, -28.0, -24.0, -19.0, -17.0, -14...</td>\n",
              "      <td>0.0</td>\n",
              "    </tr>\n",
              "    <tr>\n",
              "      <th>18</th>\n",
              "      <td>6.0</td>\n",
              "      <td>[-37.0, -35.0, -33.0, -32.0, -29.0, -26.0, -26...</td>\n",
              "      <td>0.0</td>\n",
              "    </tr>\n",
              "    <tr>\n",
              "      <th>19</th>\n",
              "      <td>7.0</td>\n",
              "      <td>[-32.0, -26.0, -22.0, -19.0, -15.0, -10.0, -7....</td>\n",
              "      <td>0.0</td>\n",
              "    </tr>\n",
              "    <tr>\n",
              "      <th>20</th>\n",
              "      <td>8.0</td>\n",
              "      <td>[-31.0, -21.0, -13.0, -8.0, -3.0, 3.0, 5.0, 12...</td>\n",
              "      <td>0.0</td>\n",
              "    </tr>\n",
              "    <tr>\n",
              "      <th>21</th>\n",
              "      <td>9.0</td>\n",
              "      <td>[-31.0, -22.0, -16.0, -11.0, -6.0, -3.0, -4.0,...</td>\n",
              "      <td>0.0</td>\n",
              "    </tr>\n",
              "    <tr>\n",
              "      <th>22</th>\n",
              "      <td>10.0</td>\n",
              "      <td>[-7.0, -1.0, 3.0, 7.0, 9.0, 12.0, 10.0, 13.0, ...</td>\n",
              "      <td>0.0</td>\n",
              "    </tr>\n",
              "    <tr>\n",
              "      <th>23</th>\n",
              "      <td>11.0</td>\n",
              "      <td>[-4.0, -1.0, 3.0, 4.0, 4.0, 4.0, 2.0, 4.0, 8.0...</td>\n",
              "      <td>0.0</td>\n",
              "    </tr>\n",
              "    <tr>\n",
              "      <th>24</th>\n",
              "      <td>0.0</td>\n",
              "      <td>[9.0, 7.0, 6.0, 6.0, 7.0, 7.0, 8.0, 7.0, 6.0, ...</td>\n",
              "      <td>1.0</td>\n",
              "    </tr>\n",
              "    <tr>\n",
              "      <th>25</th>\n",
              "      <td>1.0</td>\n",
              "      <td>[16.0, 14.0, 14.0, 12.0, 12.0, 15.0, 16.0, 14....</td>\n",
              "      <td>1.0</td>\n",
              "    </tr>\n",
              "    <tr>\n",
              "      <th>26</th>\n",
              "      <td>2.0</td>\n",
              "      <td>[7.0, 6.0, 7.0, 6.0, 5.0, 8.0, 8.0, 6.0, 7.0, ...</td>\n",
              "      <td>1.0</td>\n",
              "    </tr>\n",
              "    <tr>\n",
              "      <th>27</th>\n",
              "      <td>3.0</td>\n",
              "      <td>[-12.0, -10.0, -10.0, -9.0, -9.0, -11.0, -12.0...</td>\n",
              "      <td>1.0</td>\n",
              "    </tr>\n",
              "    <tr>\n",
              "      <th>28</th>\n",
              "      <td>4.0</td>\n",
              "      <td>[1.0, 0.0, -1.0, 0.0, 0.0, 0.0, 0.0, 1.0, 0.0,...</td>\n",
              "      <td>1.0</td>\n",
              "    </tr>\n",
              "    <tr>\n",
              "      <th>29</th>\n",
              "      <td>5.0</td>\n",
              "      <td>[11.0, 10.0, 11.0, 9.0, 9.0, 11.0, 11.0, 9.0, ...</td>\n",
              "      <td>1.0</td>\n",
              "    </tr>\n",
              "    <tr>\n",
              "      <th>30</th>\n",
              "      <td>6.0</td>\n",
              "      <td>[17.0, 13.0, 12.0, 13.0, 14.0, 14.0, 13.0, 15....</td>\n",
              "      <td>1.0</td>\n",
              "    </tr>\n",
              "    <tr>\n",
              "      <th>31</th>\n",
              "      <td>7.0</td>\n",
              "      <td>[15.0, 10.0, 8.0, 10.0, 11.0, 11.0, 11.0, 12.0...</td>\n",
              "      <td>1.0</td>\n",
              "    </tr>\n",
              "    <tr>\n",
              "      <th>32</th>\n",
              "      <td>8.0</td>\n",
              "      <td>[15.0, 11.0, 9.0, 10.0, 12.0, 12.0, 12.0, 12.0...</td>\n",
              "      <td>1.0</td>\n",
              "    </tr>\n",
              "    <tr>\n",
              "      <th>33</th>\n",
              "      <td>9.0</td>\n",
              "      <td>[14.0, 10.0, 8.0, 10.0, 11.0, 12.0, 11.0, 13.0...</td>\n",
              "      <td>1.0</td>\n",
              "    </tr>\n",
              "    <tr>\n",
              "      <th>34</th>\n",
              "      <td>10.0</td>\n",
              "      <td>[13.0, 10.0, 8.0, 10.0, 13.0, 12.0, 12.0, 14.0...</td>\n",
              "      <td>1.0</td>\n",
              "    </tr>\n",
              "    <tr>\n",
              "      <th>35</th>\n",
              "      <td>11.0</td>\n",
              "      <td>[9.0, 6.0, 5.0, 6.0, 6.0, 6.0, 6.0, 6.0, 9.0, ...</td>\n",
              "      <td>1.0</td>\n",
              "    </tr>\n",
              "    <tr>\n",
              "      <th>36</th>\n",
              "      <td>0.0</td>\n",
              "      <td>[0.0, 0.0, -1.0, 0.0, -3.0, -1.0, 2.0, 3.0, 2....</td>\n",
              "      <td>1.0</td>\n",
              "    </tr>\n",
              "    <tr>\n",
              "      <th>37</th>\n",
              "      <td>1.0</td>\n",
              "      <td>[16.0, 15.0, 16.0, 15.0, 16.0, 15.0, 16.0, 18....</td>\n",
              "      <td>1.0</td>\n",
              "    </tr>\n",
              "    <tr>\n",
              "      <th>38</th>\n",
              "      <td>2.0</td>\n",
              "      <td>[16.0, 15.0, 16.0, 15.0, 20.0, 16.0, 14.0, 14....</td>\n",
              "      <td>1.0</td>\n",
              "    </tr>\n",
              "    <tr>\n",
              "      <th>39</th>\n",
              "      <td>3.0</td>\n",
              "      <td>[-7.0, -8.0, -8.0, -9.0, -8.0, -8.0, -9.0, -10...</td>\n",
              "      <td>1.0</td>\n",
              "    </tr>\n",
              "    <tr>\n",
              "      <th>40</th>\n",
              "      <td>4.0</td>\n",
              "      <td>[-9.0, -7.0, -9.0, -8.0, -11.0, -10.0, -6.0, -...</td>\n",
              "      <td>1.0</td>\n",
              "    </tr>\n",
              "    <tr>\n",
              "      <th>41</th>\n",
              "      <td>5.0</td>\n",
              "      <td>[17.0, 16.0, 16.0, 15.0, 18.0, 17.0, 16.0, 17....</td>\n",
              "      <td>1.0</td>\n",
              "    </tr>\n",
              "    <tr>\n",
              "      <th>42</th>\n",
              "      <td>6.0</td>\n",
              "      <td>[-2.0, -1.0, 1.0, 2.0, -4.0, -4.0, -2.0, -1.0,...</td>\n",
              "      <td>1.0</td>\n",
              "    </tr>\n",
              "    <tr>\n",
              "      <th>43</th>\n",
              "      <td>7.0</td>\n",
              "      <td>[-18.0, -17.0, -18.0, -18.0, -19.0, -19.0, -18...</td>\n",
              "      <td>1.0</td>\n",
              "    </tr>\n",
              "    <tr>\n",
              "      <th>44</th>\n",
              "      <td>8.0</td>\n",
              "      <td>[10.0, 12.0, 13.0, 11.0, 12.0, 14.0, 13.0, 12....</td>\n",
              "      <td>1.0</td>\n",
              "    </tr>\n",
              "    <tr>\n",
              "      <th>45</th>\n",
              "      <td>9.0</td>\n",
              "      <td>[18.0, 16.0, 17.0, 16.0, 13.0, 13.0, 18.0, 20....</td>\n",
              "      <td>1.0</td>\n",
              "    </tr>\n",
              "    <tr>\n",
              "      <th>46</th>\n",
              "      <td>10.0</td>\n",
              "      <td>[14.0, 16.0, 17.0, 14.0, 16.0, 22.0, 22.0, 20....</td>\n",
              "      <td>1.0</td>\n",
              "    </tr>\n",
              "    <tr>\n",
              "      <th>47</th>\n",
              "      <td>11.0</td>\n",
              "      <td>[-1.0, 0.0, 1.0, 2.0, 2.0, 2.0, 4.0, 5.0, 4.0,...</td>\n",
              "      <td>1.0</td>\n",
              "    </tr>\n",
              "    <tr>\n",
              "      <th>48</th>\n",
              "      <td>0.0</td>\n",
              "      <td>[-1.0, 2.0, 3.0, 3.0, 3.0, 5.0, 0.0, -2.0, -1....</td>\n",
              "      <td>1.0</td>\n",
              "    </tr>\n",
              "    <tr>\n",
              "      <th>49</th>\n",
              "      <td>1.0</td>\n",
              "      <td>[0.0, 5.0, 4.0, 5.0, 5.0, 6.0, 1.0, 1.0, 1.0, ...</td>\n",
              "      <td>1.0</td>\n",
              "    </tr>\n",
              "    <tr>\n",
              "      <th>50</th>\n",
              "      <td>2.0</td>\n",
              "      <td>[0.0, 1.0, 0.0, 1.0, 2.0, 2.0, 3.0, 4.0, 2.0, ...</td>\n",
              "      <td>1.0</td>\n",
              "    </tr>\n",
              "    <tr>\n",
              "      <th>51</th>\n",
              "      <td>3.0</td>\n",
              "      <td>[0.0, -4.0, -3.0, -4.0, -4.0, -6.0, 0.0, 0.0, ...</td>\n",
              "      <td>1.0</td>\n",
              "    </tr>\n",
              "    <tr>\n",
              "      <th>52</th>\n",
              "      <td>4.0</td>\n",
              "      <td>[-2.0, 0.0, 0.0, 0.0, 0.0, 2.0, 1.0, -1.0, 0.0...</td>\n",
              "      <td>1.0</td>\n",
              "    </tr>\n",
              "    <tr>\n",
              "      <th>53</th>\n",
              "      <td>5.0</td>\n",
              "      <td>[1.0, 2.0, 2.0, 3.0, 4.0, 4.0, 4.0, 4.0, 2.0, ...</td>\n",
              "      <td>1.0</td>\n",
              "    </tr>\n",
              "    <tr>\n",
              "      <th>54</th>\n",
              "      <td>6.0</td>\n",
              "      <td>[29.0, 30.0, 29.0, 28.0, 30.0, 30.0, 30.0, 28....</td>\n",
              "      <td>1.0</td>\n",
              "    </tr>\n",
              "    <tr>\n",
              "      <th>55</th>\n",
              "      <td>7.0</td>\n",
              "      <td>[35.0, 34.0, 34.0, 34.0, 35.0, 36.0, 32.0, 32....</td>\n",
              "      <td>1.0</td>\n",
              "    </tr>\n",
              "    <tr>\n",
              "      <th>56</th>\n",
              "      <td>8.0</td>\n",
              "      <td>[8.0, 8.0, 8.0, 8.0, 10.0, 8.0, 9.0, 5.0, 3.0,...</td>\n",
              "      <td>1.0</td>\n",
              "    </tr>\n",
              "    <tr>\n",
              "      <th>57</th>\n",
              "      <td>9.0</td>\n",
              "      <td>[-3.0, -1.0, -3.0, -4.0, -3.0, -3.0, -6.0, -8....</td>\n",
              "      <td>1.0</td>\n",
              "    </tr>\n",
              "    <tr>\n",
              "      <th>58</th>\n",
              "      <td>10.0</td>\n",
              "      <td>[-18.0, -17.0, -18.0, -18.0, -18.0, -18.0, -20...</td>\n",
              "      <td>1.0</td>\n",
              "    </tr>\n",
              "    <tr>\n",
              "      <th>59</th>\n",
              "      <td>11.0</td>\n",
              "      <td>[-3.0, 0.0, 0.0, 0.0, -1.0, 0.0, 0.0, 0.0, 0.0...</td>\n",
              "      <td>1.0</td>\n",
              "    </tr>\n",
              "  </tbody>\n",
              "</table>\n",
              "</div>"
            ],
            "text/plain": [
              "    lead                                                 mV  severity\n",
              "0    0.0  [-6.0, -6.0, -6.0, -7.0, -8.0, -10.0, -10.0, -...       1.0\n",
              "1    1.0  [-5.0, -7.0, -6.0, -6.0, -8.0, -11.0, -11.0, -...       1.0\n",
              "2    2.0  [1.0, 0.0, 0.0, 0.0, 1.0, -1.0, 0.0, 1.0, 0.0,...       1.0\n",
              "3    3.0  [5.0, 6.0, 6.0, 6.0, 8.0, 10.0, 10.0, 7.0, 6.0...       1.0\n",
              "4    4.0  [-3.0, -2.0, -3.0, -4.0, -4.0, -5.0, -4.0, -4....       1.0\n",
              "5    5.0  [-2.0, -3.0, -2.0, -2.0, -4.0, -6.0, -6.0, -3....       1.0\n",
              "6    6.0  [-1.0, 0.0, -2.0, -4.0, -3.0, -3.0, -4.0, -3.0...       1.0\n",
              "7    7.0  [-2.0, -1.0, -2.0, -5.0, -6.0, -6.0, -7.0, -6....       1.0\n",
              "8    8.0  [-9.0, -7.0, -9.0, -12.0, -13.0, -12.0, -14.0,...       1.0\n",
              "9    9.0  [-12.0, -10.0, -12.0, -14.0, -16.0, -14.0, -15...       1.0\n",
              "10  10.0  [-10.0, -10.0, -11.0, -13.0, -13.0, -13.0, -14...       1.0\n",
              "11  11.0  [-8.0, -5.0, -8.0, -10.0, -12.0, -9.0, -12.0, ...       1.0\n",
              "12   0.0  [-79.0, -73.0, -69.0, -64.0, -68.0, -71.0, -72...       0.0\n",
              "13   1.0  [-68.0, -64.0, -63.0, -56.0, -53.0, -52.0, -50...       0.0\n",
              "14   2.0  [11.0, 8.0, 6.0, 8.0, 16.0, 20.0, 22.0, 23.0, ...       0.0\n",
              "15   3.0  [73.0, 68.0, 66.0, 60.0, 60.0, 61.0, 60.0, 62....       0.0\n",
              "16   4.0  [-45.0, -40.0, -37.0, -36.0, -42.0, -45.0, -46...       0.0\n",
              "17   5.0  [-28.0, -27.0, -28.0, -24.0, -19.0, -17.0, -14...       0.0\n",
              "18   6.0  [-37.0, -35.0, -33.0, -32.0, -29.0, -26.0, -26...       0.0\n",
              "19   7.0  [-32.0, -26.0, -22.0, -19.0, -15.0, -10.0, -7....       0.0\n",
              "20   8.0  [-31.0, -21.0, -13.0, -8.0, -3.0, 3.0, 5.0, 12...       0.0\n",
              "21   9.0  [-31.0, -22.0, -16.0, -11.0, -6.0, -3.0, -4.0,...       0.0\n",
              "22  10.0  [-7.0, -1.0, 3.0, 7.0, 9.0, 12.0, 10.0, 13.0, ...       0.0\n",
              "23  11.0  [-4.0, -1.0, 3.0, 4.0, 4.0, 4.0, 2.0, 4.0, 8.0...       0.0\n",
              "24   0.0  [9.0, 7.0, 6.0, 6.0, 7.0, 7.0, 8.0, 7.0, 6.0, ...       1.0\n",
              "25   1.0  [16.0, 14.0, 14.0, 12.0, 12.0, 15.0, 16.0, 14....       1.0\n",
              "26   2.0  [7.0, 6.0, 7.0, 6.0, 5.0, 8.0, 8.0, 6.0, 7.0, ...       1.0\n",
              "27   3.0  [-12.0, -10.0, -10.0, -9.0, -9.0, -11.0, -12.0...       1.0\n",
              "28   4.0  [1.0, 0.0, -1.0, 0.0, 0.0, 0.0, 0.0, 1.0, 0.0,...       1.0\n",
              "29   5.0  [11.0, 10.0, 11.0, 9.0, 9.0, 11.0, 11.0, 9.0, ...       1.0\n",
              "30   6.0  [17.0, 13.0, 12.0, 13.0, 14.0, 14.0, 13.0, 15....       1.0\n",
              "31   7.0  [15.0, 10.0, 8.0, 10.0, 11.0, 11.0, 11.0, 12.0...       1.0\n",
              "32   8.0  [15.0, 11.0, 9.0, 10.0, 12.0, 12.0, 12.0, 12.0...       1.0\n",
              "33   9.0  [14.0, 10.0, 8.0, 10.0, 11.0, 12.0, 11.0, 13.0...       1.0\n",
              "34  10.0  [13.0, 10.0, 8.0, 10.0, 13.0, 12.0, 12.0, 14.0...       1.0\n",
              "35  11.0  [9.0, 6.0, 5.0, 6.0, 6.0, 6.0, 6.0, 6.0, 9.0, ...       1.0\n",
              "36   0.0  [0.0, 0.0, -1.0, 0.0, -3.0, -1.0, 2.0, 3.0, 2....       1.0\n",
              "37   1.0  [16.0, 15.0, 16.0, 15.0, 16.0, 15.0, 16.0, 18....       1.0\n",
              "38   2.0  [16.0, 15.0, 16.0, 15.0, 20.0, 16.0, 14.0, 14....       1.0\n",
              "39   3.0  [-7.0, -8.0, -8.0, -9.0, -8.0, -8.0, -9.0, -10...       1.0\n",
              "40   4.0  [-9.0, -7.0, -9.0, -8.0, -11.0, -10.0, -6.0, -...       1.0\n",
              "41   5.0  [17.0, 16.0, 16.0, 15.0, 18.0, 17.0, 16.0, 17....       1.0\n",
              "42   6.0  [-2.0, -1.0, 1.0, 2.0, -4.0, -4.0, -2.0, -1.0,...       1.0\n",
              "43   7.0  [-18.0, -17.0, -18.0, -18.0, -19.0, -19.0, -18...       1.0\n",
              "44   8.0  [10.0, 12.0, 13.0, 11.0, 12.0, 14.0, 13.0, 12....       1.0\n",
              "45   9.0  [18.0, 16.0, 17.0, 16.0, 13.0, 13.0, 18.0, 20....       1.0\n",
              "46  10.0  [14.0, 16.0, 17.0, 14.0, 16.0, 22.0, 22.0, 20....       1.0\n",
              "47  11.0  [-1.0, 0.0, 1.0, 2.0, 2.0, 2.0, 4.0, 5.0, 4.0,...       1.0\n",
              "48   0.0  [-1.0, 2.0, 3.0, 3.0, 3.0, 5.0, 0.0, -2.0, -1....       1.0\n",
              "49   1.0  [0.0, 5.0, 4.0, 5.0, 5.0, 6.0, 1.0, 1.0, 1.0, ...       1.0\n",
              "50   2.0  [0.0, 1.0, 0.0, 1.0, 2.0, 2.0, 3.0, 4.0, 2.0, ...       1.0\n",
              "51   3.0  [0.0, -4.0, -3.0, -4.0, -4.0, -6.0, 0.0, 0.0, ...       1.0\n",
              "52   4.0  [-2.0, 0.0, 0.0, 0.0, 0.0, 2.0, 1.0, -1.0, 0.0...       1.0\n",
              "53   5.0  [1.0, 2.0, 2.0, 3.0, 4.0, 4.0, 4.0, 4.0, 2.0, ...       1.0\n",
              "54   6.0  [29.0, 30.0, 29.0, 28.0, 30.0, 30.0, 30.0, 28....       1.0\n",
              "55   7.0  [35.0, 34.0, 34.0, 34.0, 35.0, 36.0, 32.0, 32....       1.0\n",
              "56   8.0  [8.0, 8.0, 8.0, 8.0, 10.0, 8.0, 9.0, 5.0, 3.0,...       1.0\n",
              "57   9.0  [-3.0, -1.0, -3.0, -4.0, -3.0, -3.0, -6.0, -8....       1.0\n",
              "58  10.0  [-18.0, -17.0, -18.0, -18.0, -18.0, -18.0, -20...       1.0\n",
              "59  11.0  [-3.0, 0.0, 0.0, 0.0, -1.0, 0.0, 0.0, 0.0, 0.0...       1.0"
            ]
          },
          "metadata": {
            "tags": []
          },
          "execution_count": 4
        }
      ]
    },
    {
      "cell_type": "markdown",
      "metadata": {
        "id": "xYXVgGwLp9H0"
      },
      "source": [
        "# Ploting sample leads"
      ]
    },
    {
      "cell_type": "code",
      "metadata": {
        "colab": {
          "base_uri": "https://localhost:8080/",
          "height": 485
        },
        "id": "vacfDta9qk-C",
        "outputId": "51c4e680-d8d1-4a8d-bdc9-4e9a3fce9077"
      },
      "source": [
        "plt.figure(figsize=(15,15), dpi= 60)\r\n",
        "plt.subplot(2, 1, 1)\r\n",
        "plt.plot(ecg_studies_e3.mV[0])\r\n",
        "plt.xlabel('time (ms)')\r\n",
        "plt.ylabel('microvolts (uV)')\r\n",
        "plt.title(\"Raw signal\")\r\n",
        "plt.tight_layout()\r\n",
        "plt.show()"
      ],
      "execution_count": 5,
      "outputs": [
        {
          "output_type": "display_data",
          "data": {
            "image/png": "[encoded data removed]",
            "text/plain": [
              "<Figure size 900x900 with 1 Axes>"
            ]
          },
          "metadata": {
            "tags": [],
            "needs_background": "light"
          }
        }
      ]
    },
    {
      "cell_type": "code",
      "metadata": {
        "colab": {
          "base_uri": "https://localhost:8080/",
          "height": 485
        },
        "id": "auJ2npAwu1xf",
        "outputId": "e87179a1-5da3-4ae5-fc8d-e972b77b2b97"
      },
      "source": [
        "plt.figure(figsize=(15,15), dpi= 60)\r\n",
        "plt.subplot(2, 1, 1)\r\n",
        "plt.plot(ecg_studies_e3.mV[3])\r\n",
        "plt.xlabel('time (ms)')\r\n",
        "plt.ylabel('microvolts (uV)')\r\n",
        "plt.title(\"Raw signal\")\r\n",
        "plt.tight_layout()\r\n",
        "plt.show()"
      ],
      "execution_count": 6,
      "outputs": [
        {
          "output_type": "display_data",
          "data": {
            "image/png": "[encoded data removed]",
            "text/plain": [
              "<Figure size 900x900 with 1 Axes>"
            ]
          },
          "metadata": {
            "tags": [],
            "needs_background": "light"
          }
        }
      ]
    },
    {
      "cell_type": "markdown",
      "metadata": {
        "id": "DVo0KdxPylo5"
      },
      "source": [
        "# Data normalization"
      ]
    },
    {
      "cell_type": "code",
      "metadata": {
        "id": "MOoAlj3msrOR"
      },
      "source": [
        "mV = np.array(mV, dtype=float)\r\n",
        "severity = np.array(severity, dtype=float)\r\n",
        "lead = np.array(lead, dtype=float)"
      ],
      "execution_count": 7,
      "outputs": []
    },
    {
      "cell_type": "code",
      "metadata": {
        "colab": {
          "base_uri": "https://localhost:8080/"
        },
        "id": "Hc-G0RHjmkYc",
        "outputId": "91e82ff6-dc77-4c41-fd80-78001fedbec8"
      },
      "source": [
        "#como acceder a todas la derivaciones 1\r\n",
        "#opción 1\r\n",
        "mV[:,:1,:]\r\n",
        "#opción 2\r\n",
        "mV[lead == 0]"
      ],
      "execution_count": 8,
      "outputs": [
        {
          "output_type": "execute_result",
          "data": {
            "text/plain": [
              "array([[ -6.,  -6.,  -6., ...,   0.,   0.,   0.],\n",
              "       [-79., -73., -69., ...,   0.,   0.,   0.],\n",
              "       [  9.,   7.,   6., ...,   0.,   0.,   0.],\n",
              "       [  0.,   0.,  -1., ...,   0.,   0.,   0.],\n",
              "       [ -1.,   2.,   3., ...,   0.,   0.,   0.]])"
            ]
          },
          "metadata": {
            "tags": []
          },
          "execution_count": 8
        }
      ]
    },
    {
      "cell_type": "code",
      "metadata": {
        "id": "70H5qYPOvBj3"
      },
      "source": [
        "scaler = preprocessing.MinMaxScaler()\r\n",
        "mV = scaler.fit_transform(mV.reshape(-1, mV.shape[-1])).reshape(mV.shape)"
      ],
      "execution_count": 9,
      "outputs": []
    },
    {
      "cell_type": "markdown",
      "metadata": {
        "id": "DQ4vsMdMS63d"
      },
      "source": [
        "# RNN LSTM building"
      ]
    },
    {
      "cell_type": "code",
      "metadata": {
        "id": "m1KsqU-t0UJu"
      },
      "source": [
        "X = mV\r\n",
        "y = severity"
      ],
      "execution_count": 10,
      "outputs": []
    },
    {
      "cell_type": "code",
      "metadata": {
        "colab": {
          "base_uri": "https://localhost:8080/"
        },
        "id": "B8f2c3pnu3wy",
        "outputId": "92fa2e5a-8af6-4547-a445-7cf4cabdc493"
      },
      "source": [
        "print(X.shape)\r\n",
        "print(y.shape)"
      ],
      "execution_count": 11,
      "outputs": [
        {
          "output_type": "stream",
          "text": [
            "(5, 12, 5500)\n",
            "(5, 12)\n"
          ],
          "name": "stdout"
        }
      ]
    },
    {
      "cell_type": "code",
      "metadata": {
        "id": "9DI9raGQzQGl",
        "colab": {
          "base_uri": "https://localhost:8080/"
        },
        "outputId": "b020ef9f-7b7b-46f3-dab7-fa2d3af25bd3"
      },
      "source": [
        "X_train, X_test, y_train, y_test = train_test_split(X, y, test_size=0.33, random_state=42)\r\n",
        "print(X_train.shape)\r\n",
        "print(y_train.shape)"
      ],
      "execution_count": 12,
      "outputs": [
        {
          "output_type": "stream",
          "text": [
            "(3, 12, 5500)\n",
            "(3, 12)\n"
          ],
          "name": "stdout"
        }
      ]
    },
    {
      "cell_type": "code",
      "metadata": {
        "id": "69q_G0TagFUY"
      },
      "source": [
        "lead_1_inp = Input((5500,1))\r\n",
        "lead_1_LSTM = LSTM(20, return_sequences=True)(lead_1_inp)\r\n",
        "\r\n",
        "lead_2_inp = Input((5500,1))\r\n",
        "lead_2_LSTM = LSTM(20, return_sequences=True)(lead_2_inp)\r\n",
        "\r\n",
        "lead_3_inp = Input((5500,1))\r\n",
        "lead_3_LSTM = LSTM(20, return_sequences=True)(lead_3_inp)\r\n",
        "\r\n",
        "lead_4_inp = Input((5500,1))\r\n",
        "lead_4_LSTM = LSTM(20, return_sequences=True)(lead_4_inp)\r\n",
        "\r\n",
        "lead_5_inp = Input((5500,1))\r\n",
        "lead_5_LSTM = LSTM(20, return_sequences=True)(lead_5_inp)\r\n",
        "\r\n",
        "lead_6_inp = Input((5500,1))\r\n",
        "lead_6_LSTM = LSTM(20, return_sequences=True)(lead_6_inp)\r\n",
        "\r\n",
        "lead_7_inp = Input((5500,1))\r\n",
        "lead_7_LSTM = LSTM(20, return_sequences=True)(lead_7_inp)\r\n",
        "\r\n",
        "lead_8_inp = Input((5500,1))\r\n",
        "lead_8_LSTM = LSTM(20, return_sequences=True)(lead_8_inp)\r\n",
        "\r\n",
        "lead_9_inp = Input((5500,1))\r\n",
        "lead_9_LSTM = LSTM(20, return_sequences=True)(lead_9_inp)\r\n",
        "\r\n",
        "lead_10_inp = Input((5500,1))\r\n",
        "lead_10_LSTM = LSTM(20, return_sequences=True)(lead_10_inp)\r\n",
        "\r\n",
        "lead_11_inp = Input((5500,1))\r\n",
        "lead_11_LSTM = LSTM(20, return_sequences=True)(lead_11_inp)\r\n",
        "\r\n",
        "lead_12_inp = Input((5500,1))\r\n",
        "lead_12_LSTM = LSTM(20, return_sequences=True)(lead_12_inp)"
      ],
      "execution_count": 13,
      "outputs": []
    },
    {
      "cell_type": "code",
      "metadata": {
        "id": "Pcs8ZlCey0_k"
      },
      "source": [
        "concat = Concatenate()([lead_1_LSTM, lead_2_LSTM, lead_3_LSTM, lead_4_LSTM, lead_5_LSTM, lead_6_LSTM,\r\n",
        "                             lead_7_LSTM, lead_8_LSTM, lead_9_LSTM, lead_10_LSTM, lead_11_LSTM, lead_12_LSTM])\r\n",
        "\r\n",
        "h_1 = Dense(128)(concat)\r\n",
        "#h_1 = BatchNormalization()(h_1)\r\n",
        "#h_1 = Activation(\"tanh\")(h_1)\r\n",
        "\r\n",
        "#o = Dense(1, activation=\"softmax\")(h_1)\r\n",
        "o  = TimeDistributed(Dense(1, activation='sigmoid'))(h_1)\r\n",
        "\r\n",
        "model = Model(inputs = [lead_1_inp, lead_2_inp, lead_3_inp, lead_4_inp, lead_5_inp, lead_6_inp\r\n",
        "                        , lead_7_inp, lead_8_inp, lead_9_inp, lead_10_inp, lead_11_inp, lead_12_inp], outputs = o)\r\n",
        "\r\n",
        "model.compile(optimizer=\"adam\", loss='binary_crossentropy', metrics=[\"accuracy\"])"
      ],
      "execution_count": 14,
      "outputs": []
    },
    {
      "cell_type": "code",
      "metadata": {
        "colab": {
          "base_uri": "https://localhost:8080/"
        },
        "id": "HI9lnTfN8xUz",
        "outputId": "78cd926e-20aa-4b94-97ae-0d502063b8c9"
      },
      "source": [
        "print(model.summary())"
      ],
      "execution_count": 15,
      "outputs": [
        {
          "output_type": "stream",
          "text": [
            "Model: \"model\"\n",
            "__________________________________________________________________________________________________\n",
            "Layer (type)                    Output Shape         Param #     Connected to                     \n",
            "==================================================================================================\n",
            "input_1 (InputLayer)            [(None, 5500, 1)]    0                                            \n",
            "__________________________________________________________________________________________________\n",
            "input_2 (InputLayer)            [(None, 5500, 1)]    0                                            \n",
            "__________________________________________________________________________________________________\n",
            "input_3 (InputLayer)            [(None, 5500, 1)]    0                                            \n",
            "__________________________________________________________________________________________________\n",
            "input_4 (InputLayer)            [(None, 5500, 1)]    0                                            \n",
            "__________________________________________________________________________________________________\n",
            "input_5 (InputLayer)            [(None, 5500, 1)]    0                                            \n",
            "__________________________________________________________________________________________________\n",
            "input_6 (InputLayer)            [(None, 5500, 1)]    0                                            \n",
            "__________________________________________________________________________________________________\n",
            "input_7 (InputLayer)            [(None, 5500, 1)]    0                                            \n",
            "__________________________________________________________________________________________________\n",
            "input_8 (InputLayer)            [(None, 5500, 1)]    0                                            \n",
            "__________________________________________________________________________________________________\n",
            "input_9 (InputLayer)            [(None, 5500, 1)]    0                                            \n",
            "__________________________________________________________________________________________________\n",
            "input_10 (InputLayer)           [(None, 5500, 1)]    0                                            \n",
            "__________________________________________________________________________________________________\n",
            "input_11 (InputLayer)           [(None, 5500, 1)]    0                                            \n",
            "__________________________________________________________________________________________________\n",
            "input_12 (InputLayer)           [(None, 5500, 1)]    0                                            \n",
            "__________________________________________________________________________________________________\n",
            "lstm (LSTM)                     (None, 5500, 20)     1760        input_1[0][0]                    \n",
            "__________________________________________________________________________________________________\n",
            "lstm_1 (LSTM)                   (None, 5500, 20)     1760        input_2[0][0]                    \n",
            "__________________________________________________________________________________________________\n",
            "lstm_2 (LSTM)                   (None, 5500, 20)     1760        input_3[0][0]                    \n",
            "__________________________________________________________________________________________________\n",
            "lstm_3 (LSTM)                   (None, 5500, 20)     1760        input_4[0][0]                    \n",
            "__________________________________________________________________________________________________\n",
            "lstm_4 (LSTM)                   (None, 5500, 20)     1760        input_5[0][0]                    \n",
            "__________________________________________________________________________________________________\n",
            "lstm_5 (LSTM)                   (None, 5500, 20)     1760        input_6[0][0]                    \n",
            "__________________________________________________________________________________________________\n",
            "lstm_6 (LSTM)                   (None, 5500, 20)     1760        input_7[0][0]                    \n",
            "__________________________________________________________________________________________________\n",
            "lstm_7 (LSTM)                   (None, 5500, 20)     1760        input_8[0][0]                    \n",
            "__________________________________________________________________________________________________\n",
            "lstm_8 (LSTM)                   (None, 5500, 20)     1760        input_9[0][0]                    \n",
            "__________________________________________________________________________________________________\n",
            "lstm_9 (LSTM)                   (None, 5500, 20)     1760        input_10[0][0]                   \n",
            "__________________________________________________________________________________________________\n",
            "lstm_10 (LSTM)                  (None, 5500, 20)     1760        input_11[0][0]                   \n",
            "__________________________________________________________________________________________________\n",
            "lstm_11 (LSTM)                  (None, 5500, 20)     1760        input_12[0][0]                   \n",
            "__________________________________________________________________________________________________\n",
            "concatenate (Concatenate)       (None, 5500, 240)    0           lstm[0][0]                       \n",
            "                                                                 lstm_1[0][0]                     \n",
            "                                                                 lstm_2[0][0]                     \n",
            "                                                                 lstm_3[0][0]                     \n",
            "                                                                 lstm_4[0][0]                     \n",
            "                                                                 lstm_5[0][0]                     \n",
            "                                                                 lstm_6[0][0]                     \n",
            "                                                                 lstm_7[0][0]                     \n",
            "                                                                 lstm_8[0][0]                     \n",
            "                                                                 lstm_9[0][0]                     \n",
            "                                                                 lstm_10[0][0]                    \n",
            "                                                                 lstm_11[0][0]                    \n",
            "__________________________________________________________________________________________________\n",
            "dense (Dense)                   (None, 5500, 128)    30848       concatenate[0][0]                \n",
            "__________________________________________________________________________________________________\n",
            "time_distributed (TimeDistribut (None, 5500, 1)      129         dense[0][0]                      \n",
            "==================================================================================================\n",
            "Total params: 52,097\n",
            "Trainable params: 52,097\n",
            "Non-trainable params: 0\n",
            "__________________________________________________________________________________________________\n",
            "None\n"
          ],
          "name": "stdout"
        }
      ]
    },
    {
      "cell_type": "code",
      "metadata": {
        "colab": {
          "base_uri": "https://localhost:8080/",
          "height": 400
        },
        "id": "uXsP1NeFy4n0",
        "outputId": "fa600813-18a4-4ccd-fe09-f38f67952bf4"
      },
      "source": [
        "from IPython.display import SVG, display, clear_output\r\n",
        "from keras.utils.vis_utils import model_to_dot\r\n",
        "\r\n",
        "display(SVG(model_to_dot(model, show_shapes=True, dpi=50).create(prog='dot', format='svg')))"
      ],
      "execution_count": 16,
      "outputs": [
        {
          "output_type": "display_data",
          "data": {
            "text/plain": [
              "<IPython.core.display.SVG object>"
            ],
            "image/svg+xml": "<svg height=\"269pt\" viewBox=\"0.00 0.00 3947.50 387.00\" width=\"2741pt\" xmlns=\"http://www.w3.org/2000/svg\" xmlns:xlink=\"http://www.w3.org/1999/xlink\">\n<g class=\"graph\" id=\"graph0\" transform=\"scale(.6944 .6944) rotate(0) translate(4 383)\">\n<title>G</title>\n<polygon fill=\"#ffffff\" points=\"-4,4 -4,-383 3943.5,-383 3943.5,4 -4,4\" stroke=\"transparent\"/>\n<!-- 140264193863408 -->\n<g class=\"node\" id=\"node1\">\n<title>140264193863408</title>\n<polygon fill=\"none\" points=\"0,-332.5 0,-378.5 310,-378.5 310,-332.5 0,-332.5\" stroke=\"#000000\"/>\n<text fill=\"#000000\" font-family=\"Times,serif\" font-size=\"14.00\" text-anchor=\"middle\" x=\"66.5\" y=\"-351.8\">input_1: InputLayer</text>\n<polyline fill=\"none\" points=\"133,-332.5 133,-378.5 \" stroke=\"#000000\"/>\n<text fill=\"#000000\" font-family=\"Times,serif\" font-size=\"14.00\" text-anchor=\"middle\" x=\"162\" y=\"-363.3\">input:</text>\n<polyline fill=\"none\" points=\"133,-355.5 191,-355.5 \" stroke=\"#000000\"/>\n<text fill=\"#000000\" font-family=\"Times,serif\" font-size=\"14.00\" text-anchor=\"middle\" x=\"162\" y=\"-340.3\">output:</text>\n<polyline fill=\"none\" points=\"191,-332.5 191,-378.5 \" stroke=\"#000000\"/>\n<text fill=\"#000000\" font-family=\"Times,serif\" font-size=\"14.00\" text-anchor=\"middle\" x=\"250.5\" y=\"-363.3\">[(None, 5500, 1)]</text>\n<polyline fill=\"none\" points=\"191,-355.5 310,-355.5 \" stroke=\"#000000\"/>\n<text fill=\"#000000\" font-family=\"Times,serif\" font-size=\"14.00\" text-anchor=\"middle\" x=\"250.5\" y=\"-340.3\">[(None, 5500, 1)]</text>\n</g>\n<!-- 140264193863520 -->\n<g class=\"node\" id=\"node13\">\n<title>140264193863520</title>\n<polygon fill=\"none\" points=\"60,-249.5 60,-295.5 322,-295.5 322,-249.5 60,-249.5\" stroke=\"#000000\"/>\n<text fill=\"#000000\" font-family=\"Times,serif\" font-size=\"14.00\" text-anchor=\"middle\" x=\"103.5\" y=\"-268.8\">lstm: LSTM</text>\n<polyline fill=\"none\" points=\"147,-249.5 147,-295.5 \" stroke=\"#000000\"/>\n<text fill=\"#000000\" font-family=\"Times,serif\" font-size=\"14.00\" text-anchor=\"middle\" x=\"176\" y=\"-280.3\">input:</text>\n<polyline fill=\"none\" points=\"147,-272.5 205,-272.5 \" stroke=\"#000000\"/>\n<text fill=\"#000000\" font-family=\"Times,serif\" font-size=\"14.00\" text-anchor=\"middle\" x=\"176\" y=\"-257.3\">output:</text>\n<polyline fill=\"none\" points=\"205,-249.5 205,-295.5 \" stroke=\"#000000\"/>\n<text fill=\"#000000\" font-family=\"Times,serif\" font-size=\"14.00\" text-anchor=\"middle\" x=\"263.5\" y=\"-280.3\">(None, 5500, 1)</text>\n<polyline fill=\"none\" points=\"205,-272.5 322,-272.5 \" stroke=\"#000000\"/>\n<text fill=\"#000000\" font-family=\"Times,serif\" font-size=\"14.00\" text-anchor=\"middle\" x=\"263.5\" y=\"-257.3\">(None, 5500, 20)</text>\n</g>\n<!-- 140264193863408&#45;&gt;140264193863520 -->\n<g class=\"edge\" id=\"edge1\">\n<title>140264193863408-&gt;140264193863520</title>\n<path d=\"M165.028,-332.3799C168.703,-323.907 172.9336,-314.1531 176.899,-305.0107\" fill=\"none\" stroke=\"#000000\"/>\n<polygon fill=\"#000000\" points=\"180.1327,-306.351 180.9009,-295.784 173.7107,-303.5655 180.1327,-306.351\" stroke=\"#000000\"/>\n</g>\n<!-- 140265020992368 -->\n<g class=\"node\" id=\"node2\">\n<title>140265020992368</title>\n<polygon fill=\"none\" points=\"328,-332.5 328,-378.5 638,-378.5 638,-332.5 328,-332.5\" stroke=\"#000000\"/>\n<text fill=\"#000000\" font-family=\"Times,serif\" font-size=\"14.00\" text-anchor=\"middle\" x=\"394.5\" y=\"-351.8\">input_2: InputLayer</text>\n<polyline fill=\"none\" points=\"461,-332.5 461,-378.5 \" stroke=\"#000000\"/>\n<text fill=\"#000000\" font-family=\"Times,serif\" font-size=\"14.00\" text-anchor=\"middle\" x=\"490\" y=\"-363.3\">input:</text>\n<polyline fill=\"none\" points=\"461,-355.5 519,-355.5 \" stroke=\"#000000\"/>\n<text fill=\"#000000\" font-family=\"Times,serif\" font-size=\"14.00\" text-anchor=\"middle\" x=\"490\" y=\"-340.3\">output:</text>\n<polyline fill=\"none\" points=\"519,-332.5 519,-378.5 \" stroke=\"#000000\"/>\n<text fill=\"#000000\" font-family=\"Times,serif\" font-size=\"14.00\" text-anchor=\"middle\" x=\"578.5\" y=\"-363.3\">[(None, 5500, 1)]</text>\n<polyline fill=\"none\" points=\"519,-355.5 638,-355.5 \" stroke=\"#000000\"/>\n<text fill=\"#000000\" font-family=\"Times,serif\" font-size=\"14.00\" text-anchor=\"middle\" x=\"578.5\" y=\"-340.3\">[(None, 5500, 1)]</text>\n</g>\n<!-- 140265295358160 -->\n<g class=\"node\" id=\"node14\">\n<title>140265295358160</title>\n<polygon fill=\"none\" points=\"360.5,-249.5 360.5,-295.5 637.5,-295.5 637.5,-249.5 360.5,-249.5\" stroke=\"#000000\"/>\n<text fill=\"#000000\" font-family=\"Times,serif\" font-size=\"14.00\" text-anchor=\"middle\" x=\"411.5\" y=\"-268.8\">lstm_1: LSTM</text>\n<polyline fill=\"none\" points=\"462.5,-249.5 462.5,-295.5 \" stroke=\"#000000\"/>\n<text fill=\"#000000\" font-family=\"Times,serif\" font-size=\"14.00\" text-anchor=\"middle\" x=\"491.5\" y=\"-280.3\">input:</text>\n<polyline fill=\"none\" points=\"462.5,-272.5 520.5,-272.5 \" stroke=\"#000000\"/>\n<text fill=\"#000000\" font-family=\"Times,serif\" font-size=\"14.00\" text-anchor=\"middle\" x=\"491.5\" y=\"-257.3\">output:</text>\n<polyline fill=\"none\" points=\"520.5,-249.5 520.5,-295.5 \" stroke=\"#000000\"/>\n<text fill=\"#000000\" font-family=\"Times,serif\" font-size=\"14.00\" text-anchor=\"middle\" x=\"579\" y=\"-280.3\">(None, 5500, 1)</text>\n<polyline fill=\"none\" points=\"520.5,-272.5 637.5,-272.5 \" stroke=\"#000000\"/>\n<text fill=\"#000000\" font-family=\"Times,serif\" font-size=\"14.00\" text-anchor=\"middle\" x=\"579\" y=\"-257.3\">(None, 5500, 20)</text>\n</g>\n<!-- 140265020992368&#45;&gt;140265295358160 -->\n<g class=\"edge\" id=\"edge2\">\n<title>140265020992368-&gt;140265295358160</title>\n<path d=\"M487.4569,-332.3799C489.0386,-324.1745 490.852,-314.7679 492.5656,-305.8786\" fill=\"none\" stroke=\"#000000\"/>\n<polygon fill=\"#000000\" points=\"496.0553,-306.2658 494.5115,-295.784 489.1818,-304.9407 496.0553,-306.2658\" stroke=\"#000000\"/>\n</g>\n<!-- 140264202039080 -->\n<g class=\"node\" id=\"node3\">\n<title>140264202039080</title>\n<polygon fill=\"none\" points=\"656,-332.5 656,-378.5 966,-378.5 966,-332.5 656,-332.5\" stroke=\"#000000\"/>\n<text fill=\"#000000\" font-family=\"Times,serif\" font-size=\"14.00\" text-anchor=\"middle\" x=\"722.5\" y=\"-351.8\">input_3: InputLayer</text>\n<polyline fill=\"none\" points=\"789,-332.5 789,-378.5 \" stroke=\"#000000\"/>\n<text fill=\"#000000\" font-family=\"Times,serif\" font-size=\"14.00\" text-anchor=\"middle\" x=\"818\" y=\"-363.3\">input:</text>\n<polyline fill=\"none\" points=\"789,-355.5 847,-355.5 \" stroke=\"#000000\"/>\n<text fill=\"#000000\" font-family=\"Times,serif\" font-size=\"14.00\" text-anchor=\"middle\" x=\"818\" y=\"-340.3\">output:</text>\n<polyline fill=\"none\" points=\"847,-332.5 847,-378.5 \" stroke=\"#000000\"/>\n<text fill=\"#000000\" font-family=\"Times,serif\" font-size=\"14.00\" text-anchor=\"middle\" x=\"906.5\" y=\"-363.3\">[(None, 5500, 1)]</text>\n<polyline fill=\"none\" points=\"847,-355.5 966,-355.5 \" stroke=\"#000000\"/>\n<text fill=\"#000000\" font-family=\"Times,serif\" font-size=\"14.00\" text-anchor=\"middle\" x=\"906.5\" y=\"-340.3\">[(None, 5500, 1)]</text>\n</g>\n<!-- 140264180372704 -->\n<g class=\"node\" id=\"node15\">\n<title>140264180372704</title>\n<polygon fill=\"none\" points=\"688.5,-249.5 688.5,-295.5 965.5,-295.5 965.5,-249.5 688.5,-249.5\" stroke=\"#000000\"/>\n<text fill=\"#000000\" font-family=\"Times,serif\" font-size=\"14.00\" text-anchor=\"middle\" x=\"739.5\" y=\"-268.8\">lstm_2: LSTM</text>\n<polyline fill=\"none\" points=\"790.5,-249.5 790.5,-295.5 \" stroke=\"#000000\"/>\n<text fill=\"#000000\" font-family=\"Times,serif\" font-size=\"14.00\" text-anchor=\"middle\" x=\"819.5\" y=\"-280.3\">input:</text>\n<polyline fill=\"none\" points=\"790.5,-272.5 848.5,-272.5 \" stroke=\"#000000\"/>\n<text fill=\"#000000\" font-family=\"Times,serif\" font-size=\"14.00\" text-anchor=\"middle\" x=\"819.5\" y=\"-257.3\">output:</text>\n<polyline fill=\"none\" points=\"848.5,-249.5 848.5,-295.5 \" stroke=\"#000000\"/>\n<text fill=\"#000000\" font-family=\"Times,serif\" font-size=\"14.00\" text-anchor=\"middle\" x=\"907\" y=\"-280.3\">(None, 5500, 1)</text>\n<polyline fill=\"none\" points=\"848.5,-272.5 965.5,-272.5 \" stroke=\"#000000\"/>\n<text fill=\"#000000\" font-family=\"Times,serif\" font-size=\"14.00\" text-anchor=\"middle\" x=\"907\" y=\"-257.3\">(None, 5500, 20)</text>\n</g>\n<!-- 140264202039080&#45;&gt;140264180372704 -->\n<g class=\"edge\" id=\"edge3\">\n<title>140264202039080-&gt;140264180372704</title>\n<path d=\"M815.4569,-332.3799C817.0386,-324.1745 818.852,-314.7679 820.5656,-305.8786\" fill=\"none\" stroke=\"#000000\"/>\n<polygon fill=\"#000000\" points=\"824.0553,-306.2658 822.5115,-295.784 817.1818,-304.9407 824.0553,-306.2658\" stroke=\"#000000\"/>\n</g>\n<!-- 140264181484568 -->\n<g class=\"node\" id=\"node4\">\n<title>140264181484568</title>\n<polygon fill=\"none\" points=\"984,-332.5 984,-378.5 1294,-378.5 1294,-332.5 984,-332.5\" stroke=\"#000000\"/>\n<text fill=\"#000000\" font-family=\"Times,serif\" font-size=\"14.00\" text-anchor=\"middle\" x=\"1050.5\" y=\"-351.8\">input_4: InputLayer</text>\n<polyline fill=\"none\" points=\"1117,-332.5 1117,-378.5 \" stroke=\"#000000\"/>\n<text fill=\"#000000\" font-family=\"Times,serif\" font-size=\"14.00\" text-anchor=\"middle\" x=\"1146\" y=\"-363.3\">input:</text>\n<polyline fill=\"none\" points=\"1117,-355.5 1175,-355.5 \" stroke=\"#000000\"/>\n<text fill=\"#000000\" font-family=\"Times,serif\" font-size=\"14.00\" text-anchor=\"middle\" x=\"1146\" y=\"-340.3\">output:</text>\n<polyline fill=\"none\" points=\"1175,-332.5 1175,-378.5 \" stroke=\"#000000\"/>\n<text fill=\"#000000\" font-family=\"Times,serif\" font-size=\"14.00\" text-anchor=\"middle\" x=\"1234.5\" y=\"-363.3\">[(None, 5500, 1)]</text>\n<polyline fill=\"none\" points=\"1175,-355.5 1294,-355.5 \" stroke=\"#000000\"/>\n<text fill=\"#000000\" font-family=\"Times,serif\" font-size=\"14.00\" text-anchor=\"middle\" x=\"1234.5\" y=\"-340.3\">[(None, 5500, 1)]</text>\n</g>\n<!-- 140264184543104 -->\n<g class=\"node\" id=\"node16\">\n<title>140264184543104</title>\n<polygon fill=\"none\" points=\"1016.5,-249.5 1016.5,-295.5 1293.5,-295.5 1293.5,-249.5 1016.5,-249.5\" stroke=\"#000000\"/>\n<text fill=\"#000000\" font-family=\"Times,serif\" font-size=\"14.00\" text-anchor=\"middle\" x=\"1067.5\" y=\"-268.8\">lstm_3: LSTM</text>\n<polyline fill=\"none\" points=\"1118.5,-249.5 1118.5,-295.5 \" stroke=\"#000000\"/>\n<text fill=\"#000000\" font-family=\"Times,serif\" font-size=\"14.00\" text-anchor=\"middle\" x=\"1147.5\" y=\"-280.3\">input:</text>\n<polyline fill=\"none\" points=\"1118.5,-272.5 1176.5,-272.5 \" stroke=\"#000000\"/>\n<text fill=\"#000000\" font-family=\"Times,serif\" font-size=\"14.00\" text-anchor=\"middle\" x=\"1147.5\" y=\"-257.3\">output:</text>\n<polyline fill=\"none\" points=\"1176.5,-249.5 1176.5,-295.5 \" stroke=\"#000000\"/>\n<text fill=\"#000000\" font-family=\"Times,serif\" font-size=\"14.00\" text-anchor=\"middle\" x=\"1235\" y=\"-280.3\">(None, 5500, 1)</text>\n<polyline fill=\"none\" points=\"1176.5,-272.5 1293.5,-272.5 \" stroke=\"#000000\"/>\n<text fill=\"#000000\" font-family=\"Times,serif\" font-size=\"14.00\" text-anchor=\"middle\" x=\"1235\" y=\"-257.3\">(None, 5500, 20)</text>\n</g>\n<!-- 140264181484568&#45;&gt;140264184543104 -->\n<g class=\"edge\" id=\"edge4\">\n<title>140264181484568-&gt;140264184543104</title>\n<path d=\"M1143.4569,-332.3799C1145.0386,-324.1745 1146.852,-314.7679 1148.5656,-305.8786\" fill=\"none\" stroke=\"#000000\"/>\n<polygon fill=\"#000000\" points=\"1152.0553,-306.2658 1150.5115,-295.784 1145.1818,-304.9407 1152.0553,-306.2658\" stroke=\"#000000\"/>\n</g>\n<!-- 140264184475776 -->\n<g class=\"node\" id=\"node5\">\n<title>140264184475776</title>\n<polygon fill=\"none\" points=\"1312,-332.5 1312,-378.5 1622,-378.5 1622,-332.5 1312,-332.5\" stroke=\"#000000\"/>\n<text fill=\"#000000\" font-family=\"Times,serif\" font-size=\"14.00\" text-anchor=\"middle\" x=\"1378.5\" y=\"-351.8\">input_5: InputLayer</text>\n<polyline fill=\"none\" points=\"1445,-332.5 1445,-378.5 \" stroke=\"#000000\"/>\n<text fill=\"#000000\" font-family=\"Times,serif\" font-size=\"14.00\" text-anchor=\"middle\" x=\"1474\" y=\"-363.3\">input:</text>\n<polyline fill=\"none\" points=\"1445,-355.5 1503,-355.5 \" stroke=\"#000000\"/>\n<text fill=\"#000000\" font-family=\"Times,serif\" font-size=\"14.00\" text-anchor=\"middle\" x=\"1474\" y=\"-340.3\">output:</text>\n<polyline fill=\"none\" points=\"1503,-332.5 1503,-378.5 \" stroke=\"#000000\"/>\n<text fill=\"#000000\" font-family=\"Times,serif\" font-size=\"14.00\" text-anchor=\"middle\" x=\"1562.5\" y=\"-363.3\">[(None, 5500, 1)]</text>\n<polyline fill=\"none\" points=\"1503,-355.5 1622,-355.5 \" stroke=\"#000000\"/>\n<text fill=\"#000000\" font-family=\"Times,serif\" font-size=\"14.00\" text-anchor=\"middle\" x=\"1562.5\" y=\"-340.3\">[(None, 5500, 1)]</text>\n</g>\n<!-- 140264183749544 -->\n<g class=\"node\" id=\"node17\">\n<title>140264183749544</title>\n<polygon fill=\"none\" points=\"1344.5,-249.5 1344.5,-295.5 1621.5,-295.5 1621.5,-249.5 1344.5,-249.5\" stroke=\"#000000\"/>\n<text fill=\"#000000\" font-family=\"Times,serif\" font-size=\"14.00\" text-anchor=\"middle\" x=\"1395.5\" y=\"-268.8\">lstm_4: LSTM</text>\n<polyline fill=\"none\" points=\"1446.5,-249.5 1446.5,-295.5 \" stroke=\"#000000\"/>\n<text fill=\"#000000\" font-family=\"Times,serif\" font-size=\"14.00\" text-anchor=\"middle\" x=\"1475.5\" y=\"-280.3\">input:</text>\n<polyline fill=\"none\" points=\"1446.5,-272.5 1504.5,-272.5 \" stroke=\"#000000\"/>\n<text fill=\"#000000\" font-family=\"Times,serif\" font-size=\"14.00\" text-anchor=\"middle\" x=\"1475.5\" y=\"-257.3\">output:</text>\n<polyline fill=\"none\" points=\"1504.5,-249.5 1504.5,-295.5 \" stroke=\"#000000\"/>\n<text fill=\"#000000\" font-family=\"Times,serif\" font-size=\"14.00\" text-anchor=\"middle\" x=\"1563\" y=\"-280.3\">(None, 5500, 1)</text>\n<polyline fill=\"none\" points=\"1504.5,-272.5 1621.5,-272.5 \" stroke=\"#000000\"/>\n<text fill=\"#000000\" font-family=\"Times,serif\" font-size=\"14.00\" text-anchor=\"middle\" x=\"1563\" y=\"-257.3\">(None, 5500, 20)</text>\n</g>\n<!-- 140264184475776&#45;&gt;140264183749544 -->\n<g class=\"edge\" id=\"edge5\">\n<title>140264184475776-&gt;140264183749544</title>\n<path d=\"M1471.4569,-332.3799C1473.0386,-324.1745 1474.852,-314.7679 1476.5656,-305.8786\" fill=\"none\" stroke=\"#000000\"/>\n<polygon fill=\"#000000\" points=\"1480.0553,-306.2658 1478.5115,-295.784 1473.1818,-304.9407 1480.0553,-306.2658\" stroke=\"#000000\"/>\n</g>\n<!-- 140264173988496 -->\n<g class=\"node\" id=\"node6\">\n<title>140264173988496</title>\n<polygon fill=\"none\" points=\"1640,-332.5 1640,-378.5 1950,-378.5 1950,-332.5 1640,-332.5\" stroke=\"#000000\"/>\n<text fill=\"#000000\" font-family=\"Times,serif\" font-size=\"14.00\" text-anchor=\"middle\" x=\"1706.5\" y=\"-351.8\">input_6: InputLayer</text>\n<polyline fill=\"none\" points=\"1773,-332.5 1773,-378.5 \" stroke=\"#000000\"/>\n<text fill=\"#000000\" font-family=\"Times,serif\" font-size=\"14.00\" text-anchor=\"middle\" x=\"1802\" y=\"-363.3\">input:</text>\n<polyline fill=\"none\" points=\"1773,-355.5 1831,-355.5 \" stroke=\"#000000\"/>\n<text fill=\"#000000\" font-family=\"Times,serif\" font-size=\"14.00\" text-anchor=\"middle\" x=\"1802\" y=\"-340.3\">output:</text>\n<polyline fill=\"none\" points=\"1831,-332.5 1831,-378.5 \" stroke=\"#000000\"/>\n<text fill=\"#000000\" font-family=\"Times,serif\" font-size=\"14.00\" text-anchor=\"middle\" x=\"1890.5\" y=\"-363.3\">[(None, 5500, 1)]</text>\n<polyline fill=\"none\" points=\"1831,-355.5 1950,-355.5 \" stroke=\"#000000\"/>\n<text fill=\"#000000\" font-family=\"Times,serif\" font-size=\"14.00\" text-anchor=\"middle\" x=\"1890.5\" y=\"-340.3\">[(None, 5500, 1)]</text>\n</g>\n<!-- 140264181081704 -->\n<g class=\"node\" id=\"node18\">\n<title>140264181081704</title>\n<polygon fill=\"none\" points=\"1664.5,-249.5 1664.5,-295.5 1941.5,-295.5 1941.5,-249.5 1664.5,-249.5\" stroke=\"#000000\"/>\n<text fill=\"#000000\" font-family=\"Times,serif\" font-size=\"14.00\" text-anchor=\"middle\" x=\"1715.5\" y=\"-268.8\">lstm_5: LSTM</text>\n<polyline fill=\"none\" points=\"1766.5,-249.5 1766.5,-295.5 \" stroke=\"#000000\"/>\n<text fill=\"#000000\" font-family=\"Times,serif\" font-size=\"14.00\" text-anchor=\"middle\" x=\"1795.5\" y=\"-280.3\">input:</text>\n<polyline fill=\"none\" points=\"1766.5,-272.5 1824.5,-272.5 \" stroke=\"#000000\"/>\n<text fill=\"#000000\" font-family=\"Times,serif\" font-size=\"14.00\" text-anchor=\"middle\" x=\"1795.5\" y=\"-257.3\">output:</text>\n<polyline fill=\"none\" points=\"1824.5,-249.5 1824.5,-295.5 \" stroke=\"#000000\"/>\n<text fill=\"#000000\" font-family=\"Times,serif\" font-size=\"14.00\" text-anchor=\"middle\" x=\"1883\" y=\"-280.3\">(None, 5500, 1)</text>\n<polyline fill=\"none\" points=\"1824.5,-272.5 1941.5,-272.5 \" stroke=\"#000000\"/>\n<text fill=\"#000000\" font-family=\"Times,serif\" font-size=\"14.00\" text-anchor=\"middle\" x=\"1883\" y=\"-257.3\">(None, 5500, 20)</text>\n</g>\n<!-- 140264173988496&#45;&gt;140264181081704 -->\n<g class=\"edge\" id=\"edge6\">\n<title>140264173988496-&gt;140264181081704</title>\n<path d=\"M1797.2284,-332.3799C1798.0193,-324.1745 1798.926,-314.7679 1799.7828,-305.8786\" fill=\"none\" stroke=\"#000000\"/>\n<polygon fill=\"#000000\" points=\"1803.2801,-306.0737 1800.7558,-295.784 1796.3124,-305.4021 1803.2801,-306.0737\" stroke=\"#000000\"/>\n</g>\n<!-- 140264185525584 -->\n<g class=\"node\" id=\"node7\">\n<title>140264185525584</title>\n<polygon fill=\"none\" points=\"1968,-332.5 1968,-378.5 2278,-378.5 2278,-332.5 1968,-332.5\" stroke=\"#000000\"/>\n<text fill=\"#000000\" font-family=\"Times,serif\" font-size=\"14.00\" text-anchor=\"middle\" x=\"2034.5\" y=\"-351.8\">input_7: InputLayer</text>\n<polyline fill=\"none\" points=\"2101,-332.5 2101,-378.5 \" stroke=\"#000000\"/>\n<text fill=\"#000000\" font-family=\"Times,serif\" font-size=\"14.00\" text-anchor=\"middle\" x=\"2130\" y=\"-363.3\">input:</text>\n<polyline fill=\"none\" points=\"2101,-355.5 2159,-355.5 \" stroke=\"#000000\"/>\n<text fill=\"#000000\" font-family=\"Times,serif\" font-size=\"14.00\" text-anchor=\"middle\" x=\"2130\" y=\"-340.3\">output:</text>\n<polyline fill=\"none\" points=\"2159,-332.5 2159,-378.5 \" stroke=\"#000000\"/>\n<text fill=\"#000000\" font-family=\"Times,serif\" font-size=\"14.00\" text-anchor=\"middle\" x=\"2218.5\" y=\"-363.3\">[(None, 5500, 1)]</text>\n<polyline fill=\"none\" points=\"2159,-355.5 2278,-355.5 \" stroke=\"#000000\"/>\n<text fill=\"#000000\" font-family=\"Times,serif\" font-size=\"14.00\" text-anchor=\"middle\" x=\"2218.5\" y=\"-340.3\">[(None, 5500, 1)]</text>\n</g>\n<!-- 140264185664008 -->\n<g class=\"node\" id=\"node19\">\n<title>140264185664008</title>\n<polygon fill=\"none\" points=\"1975.5,-249.5 1975.5,-295.5 2252.5,-295.5 2252.5,-249.5 1975.5,-249.5\" stroke=\"#000000\"/>\n<text fill=\"#000000\" font-family=\"Times,serif\" font-size=\"14.00\" text-anchor=\"middle\" x=\"2026.5\" y=\"-268.8\">lstm_6: LSTM</text>\n<polyline fill=\"none\" points=\"2077.5,-249.5 2077.5,-295.5 \" stroke=\"#000000\"/>\n<text fill=\"#000000\" font-family=\"Times,serif\" font-size=\"14.00\" text-anchor=\"middle\" x=\"2106.5\" y=\"-280.3\">input:</text>\n<polyline fill=\"none\" points=\"2077.5,-272.5 2135.5,-272.5 \" stroke=\"#000000\"/>\n<text fill=\"#000000\" font-family=\"Times,serif\" font-size=\"14.00\" text-anchor=\"middle\" x=\"2106.5\" y=\"-257.3\">output:</text>\n<polyline fill=\"none\" points=\"2135.5,-249.5 2135.5,-295.5 \" stroke=\"#000000\"/>\n<text fill=\"#000000\" font-family=\"Times,serif\" font-size=\"14.00\" text-anchor=\"middle\" x=\"2194\" y=\"-280.3\">(None, 5500, 1)</text>\n<polyline fill=\"none\" points=\"2135.5,-272.5 2252.5,-272.5 \" stroke=\"#000000\"/>\n<text fill=\"#000000\" font-family=\"Times,serif\" font-size=\"14.00\" text-anchor=\"middle\" x=\"2194\" y=\"-257.3\">(None, 5500, 20)</text>\n</g>\n<!-- 140264185525584&#45;&gt;140264185664008 -->\n<g class=\"edge\" id=\"edge7\">\n<title>140264185525584-&gt;140264185664008</title>\n<path d=\"M2120.493,-332.3799C2119.6033,-324.1745 2118.5833,-314.7679 2117.6194,-305.8786\" fill=\"none\" stroke=\"#000000\"/>\n<polygon fill=\"#000000\" points=\"2121.0825,-305.3484 2116.5248,-295.784 2114.1233,-306.1031 2121.0825,-305.3484\" stroke=\"#000000\"/>\n</g>\n<!-- 140264178564400 -->\n<g class=\"node\" id=\"node8\">\n<title>140264178564400</title>\n<polygon fill=\"none\" points=\"2296,-332.5 2296,-378.5 2606,-378.5 2606,-332.5 2296,-332.5\" stroke=\"#000000\"/>\n<text fill=\"#000000\" font-family=\"Times,serif\" font-size=\"14.00\" text-anchor=\"middle\" x=\"2362.5\" y=\"-351.8\">input_8: InputLayer</text>\n<polyline fill=\"none\" points=\"2429,-332.5 2429,-378.5 \" stroke=\"#000000\"/>\n<text fill=\"#000000\" font-family=\"Times,serif\" font-size=\"14.00\" text-anchor=\"middle\" x=\"2458\" y=\"-363.3\">input:</text>\n<polyline fill=\"none\" points=\"2429,-355.5 2487,-355.5 \" stroke=\"#000000\"/>\n<text fill=\"#000000\" font-family=\"Times,serif\" font-size=\"14.00\" text-anchor=\"middle\" x=\"2458\" y=\"-340.3\">output:</text>\n<polyline fill=\"none\" points=\"2487,-332.5 2487,-378.5 \" stroke=\"#000000\"/>\n<text fill=\"#000000\" font-family=\"Times,serif\" font-size=\"14.00\" text-anchor=\"middle\" x=\"2546.5\" y=\"-363.3\">[(None, 5500, 1)]</text>\n<polyline fill=\"none\" points=\"2487,-355.5 2606,-355.5 \" stroke=\"#000000\"/>\n<text fill=\"#000000\" font-family=\"Times,serif\" font-size=\"14.00\" text-anchor=\"middle\" x=\"2546.5\" y=\"-340.3\">[(None, 5500, 1)]</text>\n</g>\n<!-- 140264185492088 -->\n<g class=\"node\" id=\"node20\">\n<title>140264185492088</title>\n<polygon fill=\"none\" points=\"2295.5,-249.5 2295.5,-295.5 2572.5,-295.5 2572.5,-249.5 2295.5,-249.5\" stroke=\"#000000\"/>\n<text fill=\"#000000\" font-family=\"Times,serif\" font-size=\"14.00\" text-anchor=\"middle\" x=\"2346.5\" y=\"-268.8\">lstm_7: LSTM</text>\n<polyline fill=\"none\" points=\"2397.5,-249.5 2397.5,-295.5 \" stroke=\"#000000\"/>\n<text fill=\"#000000\" font-family=\"Times,serif\" font-size=\"14.00\" text-anchor=\"middle\" x=\"2426.5\" y=\"-280.3\">input:</text>\n<polyline fill=\"none\" points=\"2397.5,-272.5 2455.5,-272.5 \" stroke=\"#000000\"/>\n<text fill=\"#000000\" font-family=\"Times,serif\" font-size=\"14.00\" text-anchor=\"middle\" x=\"2426.5\" y=\"-257.3\">output:</text>\n<polyline fill=\"none\" points=\"2455.5,-249.5 2455.5,-295.5 \" stroke=\"#000000\"/>\n<text fill=\"#000000\" font-family=\"Times,serif\" font-size=\"14.00\" text-anchor=\"middle\" x=\"2514\" y=\"-280.3\">(None, 5500, 1)</text>\n<polyline fill=\"none\" points=\"2455.5,-272.5 2572.5,-272.5 \" stroke=\"#000000\"/>\n<text fill=\"#000000\" font-family=\"Times,serif\" font-size=\"14.00\" text-anchor=\"middle\" x=\"2514\" y=\"-257.3\">(None, 5500, 20)</text>\n</g>\n<!-- 140264178564400&#45;&gt;140264185492088 -->\n<g class=\"edge\" id=\"edge8\">\n<title>140264178564400-&gt;140264185492088</title>\n<path d=\"M2446.2646,-332.3799C2444.5657,-324.0854 2442.6154,-314.5633 2440.7773,-305.5889\" fill=\"none\" stroke=\"#000000\"/>\n<polygon fill=\"#000000\" points=\"2444.2044,-304.8783 2438.769,-295.784 2437.3468,-306.2829 2444.2044,-304.8783\" stroke=\"#000000\"/>\n</g>\n<!-- 140264176209704 -->\n<g class=\"node\" id=\"node9\">\n<title>140264176209704</title>\n<polygon fill=\"none\" points=\"2624,-332.5 2624,-378.5 2934,-378.5 2934,-332.5 2624,-332.5\" stroke=\"#000000\"/>\n<text fill=\"#000000\" font-family=\"Times,serif\" font-size=\"14.00\" text-anchor=\"middle\" x=\"2690.5\" y=\"-351.8\">input_9: InputLayer</text>\n<polyline fill=\"none\" points=\"2757,-332.5 2757,-378.5 \" stroke=\"#000000\"/>\n<text fill=\"#000000\" font-family=\"Times,serif\" font-size=\"14.00\" text-anchor=\"middle\" x=\"2786\" y=\"-363.3\">input:</text>\n<polyline fill=\"none\" points=\"2757,-355.5 2815,-355.5 \" stroke=\"#000000\"/>\n<text fill=\"#000000\" font-family=\"Times,serif\" font-size=\"14.00\" text-anchor=\"middle\" x=\"2786\" y=\"-340.3\">output:</text>\n<polyline fill=\"none\" points=\"2815,-332.5 2815,-378.5 \" stroke=\"#000000\"/>\n<text fill=\"#000000\" font-family=\"Times,serif\" font-size=\"14.00\" text-anchor=\"middle\" x=\"2874.5\" y=\"-363.3\">[(None, 5500, 1)]</text>\n<polyline fill=\"none\" points=\"2815,-355.5 2934,-355.5 \" stroke=\"#000000\"/>\n<text fill=\"#000000\" font-family=\"Times,serif\" font-size=\"14.00\" text-anchor=\"middle\" x=\"2874.5\" y=\"-340.3\">[(None, 5500, 1)]</text>\n</g>\n<!-- 140264185227472 -->\n<g class=\"node\" id=\"node21\">\n<title>140264185227472</title>\n<polygon fill=\"none\" points=\"2619.5,-249.5 2619.5,-295.5 2896.5,-295.5 2896.5,-249.5 2619.5,-249.5\" stroke=\"#000000\"/>\n<text fill=\"#000000\" font-family=\"Times,serif\" font-size=\"14.00\" text-anchor=\"middle\" x=\"2670.5\" y=\"-268.8\">lstm_8: LSTM</text>\n<polyline fill=\"none\" points=\"2721.5,-249.5 2721.5,-295.5 \" stroke=\"#000000\"/>\n<text fill=\"#000000\" font-family=\"Times,serif\" font-size=\"14.00\" text-anchor=\"middle\" x=\"2750.5\" y=\"-280.3\">input:</text>\n<polyline fill=\"none\" points=\"2721.5,-272.5 2779.5,-272.5 \" stroke=\"#000000\"/>\n<text fill=\"#000000\" font-family=\"Times,serif\" font-size=\"14.00\" text-anchor=\"middle\" x=\"2750.5\" y=\"-257.3\">output:</text>\n<polyline fill=\"none\" points=\"2779.5,-249.5 2779.5,-295.5 \" stroke=\"#000000\"/>\n<text fill=\"#000000\" font-family=\"Times,serif\" font-size=\"14.00\" text-anchor=\"middle\" x=\"2838\" y=\"-280.3\">(None, 5500, 1)</text>\n<polyline fill=\"none\" points=\"2779.5,-272.5 2896.5,-272.5 \" stroke=\"#000000\"/>\n<text fill=\"#000000\" font-family=\"Times,serif\" font-size=\"14.00\" text-anchor=\"middle\" x=\"2838\" y=\"-257.3\">(None, 5500, 20)</text>\n</g>\n<!-- 140264176209704&#45;&gt;140264185227472 -->\n<g class=\"edge\" id=\"edge9\">\n<title>140264176209704-&gt;140264185227472</title>\n<path d=\"M2773.1503,-332.3799C2771.0517,-324.0854 2768.6425,-314.5633 2766.3719,-305.5889\" fill=\"none\" stroke=\"#000000\"/>\n<polygon fill=\"#000000\" points=\"2769.7371,-304.62 2763.8911,-295.784 2762.951,-306.337 2769.7371,-304.62\" stroke=\"#000000\"/>\n</g>\n<!-- 140264173341944 -->\n<g class=\"node\" id=\"node10\">\n<title>140264173341944</title>\n<polygon fill=\"none\" points=\"2952.5,-332.5 2952.5,-378.5 3269.5,-378.5 3269.5,-332.5 2952.5,-332.5\" stroke=\"#000000\"/>\n<text fill=\"#000000\" font-family=\"Times,serif\" font-size=\"14.00\" text-anchor=\"middle\" x=\"3022.5\" y=\"-351.8\">input_10: InputLayer</text>\n<polyline fill=\"none\" points=\"3092.5,-332.5 3092.5,-378.5 \" stroke=\"#000000\"/>\n<text fill=\"#000000\" font-family=\"Times,serif\" font-size=\"14.00\" text-anchor=\"middle\" x=\"3121.5\" y=\"-363.3\">input:</text>\n<polyline fill=\"none\" points=\"3092.5,-355.5 3150.5,-355.5 \" stroke=\"#000000\"/>\n<text fill=\"#000000\" font-family=\"Times,serif\" font-size=\"14.00\" text-anchor=\"middle\" x=\"3121.5\" y=\"-340.3\">output:</text>\n<polyline fill=\"none\" points=\"3150.5,-332.5 3150.5,-378.5 \" stroke=\"#000000\"/>\n<text fill=\"#000000\" font-family=\"Times,serif\" font-size=\"14.00\" text-anchor=\"middle\" x=\"3210\" y=\"-363.3\">[(None, 5500, 1)]</text>\n<polyline fill=\"none\" points=\"3150.5,-355.5 3269.5,-355.5 \" stroke=\"#000000\"/>\n<text fill=\"#000000\" font-family=\"Times,serif\" font-size=\"14.00\" text-anchor=\"middle\" x=\"3210\" y=\"-340.3\">[(None, 5500, 1)]</text>\n</g>\n<!-- 140264185170576 -->\n<g class=\"node\" id=\"node22\">\n<title>140264185170576</title>\n<polygon fill=\"none\" points=\"2947.5,-249.5 2947.5,-295.5 3224.5,-295.5 3224.5,-249.5 2947.5,-249.5\" stroke=\"#000000\"/>\n<text fill=\"#000000\" font-family=\"Times,serif\" font-size=\"14.00\" text-anchor=\"middle\" x=\"2998.5\" y=\"-268.8\">lstm_9: LSTM</text>\n<polyline fill=\"none\" points=\"3049.5,-249.5 3049.5,-295.5 \" stroke=\"#000000\"/>\n<text fill=\"#000000\" font-family=\"Times,serif\" font-size=\"14.00\" text-anchor=\"middle\" x=\"3078.5\" y=\"-280.3\">input:</text>\n<polyline fill=\"none\" points=\"3049.5,-272.5 3107.5,-272.5 \" stroke=\"#000000\"/>\n<text fill=\"#000000\" font-family=\"Times,serif\" font-size=\"14.00\" text-anchor=\"middle\" x=\"3078.5\" y=\"-257.3\">output:</text>\n<polyline fill=\"none\" points=\"3107.5,-249.5 3107.5,-295.5 \" stroke=\"#000000\"/>\n<text fill=\"#000000\" font-family=\"Times,serif\" font-size=\"14.00\" text-anchor=\"middle\" x=\"3166\" y=\"-280.3\">(None, 5500, 1)</text>\n<polyline fill=\"none\" points=\"3107.5,-272.5 3224.5,-272.5 \" stroke=\"#000000\"/>\n<text fill=\"#000000\" font-family=\"Times,serif\" font-size=\"14.00\" text-anchor=\"middle\" x=\"3166\" y=\"-257.3\">(None, 5500, 20)</text>\n</g>\n<!-- 140264173341944&#45;&gt;140264185170576 -->\n<g class=\"edge\" id=\"edge10\">\n<title>140264173341944-&gt;140264185170576</title>\n<path d=\"M3104.0361,-332.3799C3101.5378,-324.0854 3098.6697,-314.5633 3095.9665,-305.5889\" fill=\"none\" stroke=\"#000000\"/>\n<polygon fill=\"#000000\" points=\"3099.2487,-304.3496 3093.0133,-295.784 3092.5461,-306.3685 3099.2487,-304.3496\" stroke=\"#000000\"/>\n</g>\n<!-- 140264171597776 -->\n<g class=\"node\" id=\"node11\">\n<title>140264171597776</title>\n<polygon fill=\"none\" points=\"3287.5,-332.5 3287.5,-378.5 3604.5,-378.5 3604.5,-332.5 3287.5,-332.5\" stroke=\"#000000\"/>\n<text fill=\"#000000\" font-family=\"Times,serif\" font-size=\"14.00\" text-anchor=\"middle\" x=\"3357.5\" y=\"-351.8\">input_11: InputLayer</text>\n<polyline fill=\"none\" points=\"3427.5,-332.5 3427.5,-378.5 \" stroke=\"#000000\"/>\n<text fill=\"#000000\" font-family=\"Times,serif\" font-size=\"14.00\" text-anchor=\"middle\" x=\"3456.5\" y=\"-363.3\">input:</text>\n<polyline fill=\"none\" points=\"3427.5,-355.5 3485.5,-355.5 \" stroke=\"#000000\"/>\n<text fill=\"#000000\" font-family=\"Times,serif\" font-size=\"14.00\" text-anchor=\"middle\" x=\"3456.5\" y=\"-340.3\">output:</text>\n<polyline fill=\"none\" points=\"3485.5,-332.5 3485.5,-378.5 \" stroke=\"#000000\"/>\n<text fill=\"#000000\" font-family=\"Times,serif\" font-size=\"14.00\" text-anchor=\"middle\" x=\"3545\" y=\"-363.3\">[(None, 5500, 1)]</text>\n<polyline fill=\"none\" points=\"3485.5,-355.5 3604.5,-355.5 \" stroke=\"#000000\"/>\n<text fill=\"#000000\" font-family=\"Times,serif\" font-size=\"14.00\" text-anchor=\"middle\" x=\"3545\" y=\"-340.3\">[(None, 5500, 1)]</text>\n</g>\n<!-- 140264185047136 -->\n<g class=\"node\" id=\"node23\">\n<title>140264185047136</title>\n<polygon fill=\"none\" points=\"3276.5,-249.5 3276.5,-295.5 3561.5,-295.5 3561.5,-249.5 3276.5,-249.5\" stroke=\"#000000\"/>\n<text fill=\"#000000\" font-family=\"Times,serif\" font-size=\"14.00\" text-anchor=\"middle\" x=\"3331.5\" y=\"-268.8\">lstm_10: LSTM</text>\n<polyline fill=\"none\" points=\"3386.5,-249.5 3386.5,-295.5 \" stroke=\"#000000\"/>\n<text fill=\"#000000\" font-family=\"Times,serif\" font-size=\"14.00\" text-anchor=\"middle\" x=\"3415.5\" y=\"-280.3\">input:</text>\n<polyline fill=\"none\" points=\"3386.5,-272.5 3444.5,-272.5 \" stroke=\"#000000\"/>\n<text fill=\"#000000\" font-family=\"Times,serif\" font-size=\"14.00\" text-anchor=\"middle\" x=\"3415.5\" y=\"-257.3\">output:</text>\n<polyline fill=\"none\" points=\"3444.5,-249.5 3444.5,-295.5 \" stroke=\"#000000\"/>\n<text fill=\"#000000\" font-family=\"Times,serif\" font-size=\"14.00\" text-anchor=\"middle\" x=\"3503\" y=\"-280.3\">(None, 5500, 1)</text>\n<polyline fill=\"none\" points=\"3444.5,-272.5 3561.5,-272.5 \" stroke=\"#000000\"/>\n<text fill=\"#000000\" font-family=\"Times,serif\" font-size=\"14.00\" text-anchor=\"middle\" x=\"3503\" y=\"-257.3\">(None, 5500, 20)</text>\n</g>\n<!-- 140264171597776&#45;&gt;140264185047136 -->\n<g class=\"edge\" id=\"edge11\">\n<title>140264171597776-&gt;140264185047136</title>\n<path d=\"M3438.479,-332.3799C3435.7518,-323.9962 3432.6166,-314.3584 3429.6698,-305.2996\" fill=\"none\" stroke=\"#000000\"/>\n<polygon fill=\"#000000\" points=\"3432.9962,-304.2108 3426.5743,-295.784 3426.3395,-306.3762 3432.9962,-304.2108\" stroke=\"#000000\"/>\n</g>\n<!-- 140264185143704 -->\n<g class=\"node\" id=\"node12\">\n<title>140264185143704</title>\n<polygon fill=\"none\" points=\"3622.5,-332.5 3622.5,-378.5 3939.5,-378.5 3939.5,-332.5 3622.5,-332.5\" stroke=\"#000000\"/>\n<text fill=\"#000000\" font-family=\"Times,serif\" font-size=\"14.00\" text-anchor=\"middle\" x=\"3692.5\" y=\"-351.8\">input_12: InputLayer</text>\n<polyline fill=\"none\" points=\"3762.5,-332.5 3762.5,-378.5 \" stroke=\"#000000\"/>\n<text fill=\"#000000\" font-family=\"Times,serif\" font-size=\"14.00\" text-anchor=\"middle\" x=\"3791.5\" y=\"-363.3\">input:</text>\n<polyline fill=\"none\" points=\"3762.5,-355.5 3820.5,-355.5 \" stroke=\"#000000\"/>\n<text fill=\"#000000\" font-family=\"Times,serif\" font-size=\"14.00\" text-anchor=\"middle\" x=\"3791.5\" y=\"-340.3\">output:</text>\n<polyline fill=\"none\" points=\"3820.5,-332.5 3820.5,-378.5 \" stroke=\"#000000\"/>\n<text fill=\"#000000\" font-family=\"Times,serif\" font-size=\"14.00\" text-anchor=\"middle\" x=\"3880\" y=\"-363.3\">[(None, 5500, 1)]</text>\n<polyline fill=\"none\" points=\"3820.5,-355.5 3939.5,-355.5 \" stroke=\"#000000\"/>\n<text fill=\"#000000\" font-family=\"Times,serif\" font-size=\"14.00\" text-anchor=\"middle\" x=\"3880\" y=\"-340.3\">[(None, 5500, 1)]</text>\n</g>\n<!-- 140264186130672 -->\n<g class=\"node\" id=\"node24\">\n<title>140264186130672</title>\n<polygon fill=\"none\" points=\"3613,-249.5 3613,-295.5 3897,-295.5 3897,-249.5 3613,-249.5\" stroke=\"#000000\"/>\n<text fill=\"#000000\" font-family=\"Times,serif\" font-size=\"14.00\" text-anchor=\"middle\" x=\"3667.5\" y=\"-268.8\">lstm_11: LSTM</text>\n<polyline fill=\"none\" points=\"3722,-249.5 3722,-295.5 \" stroke=\"#000000\"/>\n<text fill=\"#000000\" font-family=\"Times,serif\" font-size=\"14.00\" text-anchor=\"middle\" x=\"3751\" y=\"-280.3\">input:</text>\n<polyline fill=\"none\" points=\"3722,-272.5 3780,-272.5 \" stroke=\"#000000\"/>\n<text fill=\"#000000\" font-family=\"Times,serif\" font-size=\"14.00\" text-anchor=\"middle\" x=\"3751\" y=\"-257.3\">output:</text>\n<polyline fill=\"none\" points=\"3780,-249.5 3780,-295.5 \" stroke=\"#000000\"/>\n<text fill=\"#000000\" font-family=\"Times,serif\" font-size=\"14.00\" text-anchor=\"middle\" x=\"3838.5\" y=\"-280.3\">(None, 5500, 1)</text>\n<polyline fill=\"none\" points=\"3780,-272.5 3897,-272.5 \" stroke=\"#000000\"/>\n<text fill=\"#000000\" font-family=\"Times,serif\" font-size=\"14.00\" text-anchor=\"middle\" x=\"3838.5\" y=\"-257.3\">(None, 5500, 20)</text>\n</g>\n<!-- 140264185143704&#45;&gt;140264186130672 -->\n<g class=\"edge\" id=\"edge12\">\n<title>140264185143704-&gt;140264186130672</title>\n<path d=\"M3773.7576,-332.3799C3771.1593,-324.0854 3768.1764,-314.5633 3765.3652,-305.5889\" fill=\"none\" stroke=\"#000000\"/>\n<polygon fill=\"#000000\" points=\"3768.6231,-304.2805 3762.2938,-295.784 3761.9432,-306.373 3768.6231,-304.2805\" stroke=\"#000000\"/>\n</g>\n<!-- 140264175886800 -->\n<g class=\"node\" id=\"node25\">\n<title>140264175886800</title>\n<polygon fill=\"none\" points=\"1192,-166.5 1192,-212.5 2724,-212.5 2724,-166.5 1192,-166.5\" stroke=\"#000000\"/>\n<text fill=\"#000000\" font-family=\"Times,serif\" font-size=\"14.00\" text-anchor=\"middle\" x=\"1272\" y=\"-185.8\">concatenate: Concatenate</text>\n<polyline fill=\"none\" points=\"1352,-166.5 1352,-212.5 \" stroke=\"#000000\"/>\n<text fill=\"#000000\" font-family=\"Times,serif\" font-size=\"14.00\" text-anchor=\"middle\" x=\"1381\" y=\"-197.3\">input:</text>\n<polyline fill=\"none\" points=\"1352,-189.5 1410,-189.5 \" stroke=\"#000000\"/>\n<text fill=\"#000000\" font-family=\"Times,serif\" font-size=\"14.00\" text-anchor=\"middle\" x=\"1381\" y=\"-174.3\">output:</text>\n<polyline fill=\"none\" points=\"1410,-166.5 1410,-212.5 \" stroke=\"#000000\"/>\n<text fill=\"#000000\" font-family=\"Times,serif\" font-size=\"14.00\" text-anchor=\"middle\" x=\"2067\" y=\"-197.3\">[(None, 5500, 20), (None, 5500, 20), (None, 5500, 20), (None, 5500, 20), (None, 5500, 20), (None, 5500, 20), (None, 5500, 20), (None, 5500, 20), (None, 5500, 20), (None, 5500, 20), (None, 5500, 20), (None, 5500, 20)]</text>\n<polyline fill=\"none\" points=\"1410,-189.5 2724,-189.5 \" stroke=\"#000000\"/>\n<text fill=\"#000000\" font-family=\"Times,serif\" font-size=\"14.00\" text-anchor=\"middle\" x=\"2067\" y=\"-174.3\">(None, 5500, 240)</text>\n</g>\n<!-- 140264193863520&#45;&gt;140264175886800 -->\n<g class=\"edge\" id=\"edge13\">\n<title>140264193863520-&gt;140264175886800</title>\n<path d=\"M322.2718,-252.0478C331.9792,-250.895 341.6339,-249.8586 351,-249 511.4571,-234.2899 853.9289,-220.7485 1181.6544,-210.3126\" fill=\"none\" stroke=\"#000000\"/>\n<polygon fill=\"#000000\" points=\"1181.9514,-213.805 1191.8353,-209.9892 1181.7292,-206.8085 1181.9514,-213.805\" stroke=\"#000000\"/>\n</g>\n<!-- 140265295358160&#45;&gt;140264175886800 -->\n<g class=\"edge\" id=\"edge14\">\n<title>140265295358160-&gt;140264175886800</title>\n<path d=\"M637.7148,-253.3039C651.9785,-251.6855 666.2691,-250.2089 680,-249 857.6591,-233.3581 1049.5978,-221.675 1229.3809,-213.0061\" fill=\"none\" stroke=\"#000000\"/>\n<polygon fill=\"#000000\" points=\"1229.7436,-216.4929 1239.5644,-212.5177 1229.4081,-209.5009 1229.7436,-216.4929\" stroke=\"#000000\"/>\n</g>\n<!-- 140264180372704&#45;&gt;140264175886800 -->\n<g class=\"edge\" id=\"edge15\">\n<title>140264180372704-&gt;140264175886800</title>\n<path d=\"M965.7358,-253.5313C979.9953,-251.8681 994.2792,-250.3189 1008,-249 1161.6652,-234.2289 1329.6825,-222.3151 1481.116,-213.1402\" fill=\"none\" stroke=\"#000000\"/>\n<polygon fill=\"#000000\" points=\"1481.7567,-216.608 1491.5278,-212.5121 1481.3352,-209.6207 1481.7567,-216.608\" stroke=\"#000000\"/>\n</g>\n<!-- 140264184543104&#45;&gt;140264175886800 -->\n<g class=\"edge\" id=\"edge16\">\n<title>140264184543104-&gt;140264175886800</title>\n<path d=\"M1293.7843,-253.9963C1308.0343,-252.2416 1322.3027,-250.5439 1336,-249 1450.7251,-236.0689 1577.5627,-223.6059 1686.6133,-213.4568\" fill=\"none\" stroke=\"#000000\"/>\n<polygon fill=\"#000000\" points=\"1687.1402,-216.923 1696.7736,-212.5131 1686.4928,-209.953 1687.1402,-216.923\" stroke=\"#000000\"/>\n</g>\n<!-- 140264183749544&#45;&gt;140264175886800 -->\n<g class=\"edge\" id=\"edge17\">\n<title>140264183749544-&gt;140264175886800</title>\n<path d=\"M1614.6832,-249.4901C1677.231,-238.5607 1752.0868,-225.4806 1815.9149,-214.3275\" fill=\"none\" stroke=\"#000000\"/>\n<polygon fill=\"#000000\" points=\"1816.8124,-217.7238 1826.0607,-212.5547 1815.6074,-210.8283 1816.8124,-217.7238\" stroke=\"#000000\"/>\n</g>\n<!-- 140264181081704&#45;&gt;140264175886800 -->\n<g class=\"edge\" id=\"edge18\">\n<title>140264181081704-&gt;140264175886800</title>\n<path d=\"M1846.1761,-249.3799C1864.658,-239.4832 1886.4034,-227.8388 1905.7809,-217.4625\" fill=\"none\" stroke=\"#000000\"/>\n<polygon fill=\"#000000\" points=\"1907.6234,-220.4461 1914.7868,-212.6399 1904.3189,-214.2752 1907.6234,-220.4461\" stroke=\"#000000\"/>\n</g>\n<!-- 140264185664008&#45;&gt;140264175886800 -->\n<g class=\"edge\" id=\"edge19\">\n<title>140264185664008-&gt;140264175886800</title>\n<path d=\"M2070.5453,-249.3799C2051.9442,-239.4832 2030.0585,-227.8388 2010.556,-217.4625\" fill=\"none\" stroke=\"#000000\"/>\n<polygon fill=\"#000000\" points=\"2011.9642,-214.2472 2001.492,-212.6399 2008.6762,-220.427 2011.9642,-214.2472\" stroke=\"#000000\"/>\n</g>\n<!-- 140264185492088&#45;&gt;140264175886800 -->\n<g class=\"edge\" id=\"edge20\">\n<title>140264185492088-&gt;140264175886800</title>\n<path d=\"M2302.0396,-249.4901C2239.3601,-238.5607 2164.3467,-225.4806 2100.3842,-214.3275\" fill=\"none\" stroke=\"#000000\"/>\n<polygon fill=\"#000000\" points=\"2100.6697,-210.8245 2090.2171,-212.5547 2099.4672,-217.7205 2100.6697,-210.8245\" stroke=\"#000000\"/>\n</g>\n<!-- 140264185227472&#45;&gt;140264175886800 -->\n<g class=\"edge\" id=\"edge21\">\n<title>140264185227472-&gt;140264175886800</title>\n<path d=\"M2619.2346,-253.4752C2606.6522,-251.9003 2594.0977,-250.3839 2582,-249 2467.8485,-235.9415 2341.718,-223.5338 2232.9051,-213.4613\" fill=\"none\" stroke=\"#000000\"/>\n<polygon fill=\"#000000\" points=\"2233.0452,-209.9594 2222.7657,-212.5248 2232.4014,-216.9297 2233.0452,-209.9594\" stroke=\"#000000\"/>\n</g>\n<!-- 140264185170576&#45;&gt;140264175886800 -->\n<g class=\"edge\" id=\"edge22\">\n<title>140264185170576-&gt;140264175886800</title>\n<path d=\"M2947.0542,-253.4139C2933.1983,-251.7947 2919.332,-250.2872 2906,-249 2752.8638,-234.2147 2585.4396,-222.3037 2434.4791,-213.1357\" fill=\"none\" stroke=\"#000000\"/>\n<polygon fill=\"#000000\" points=\"2434.2928,-209.6181 2424.0997,-212.508 2433.8702,-216.6053 2434.2928,-209.6181\" stroke=\"#000000\"/>\n</g>\n<!-- 140264185047136&#45;&gt;140264175886800 -->\n<g class=\"edge\" id=\"edge23\">\n<title>140264185047136-&gt;140264175886800</title>\n<path d=\"M3276.4588,-253.2355C3262.1318,-251.6468 3247.7891,-250.1954 3234,-249 3053.9329,-233.3901 2859.1911,-221.6888 2677.3686,-212.9895\" fill=\"none\" stroke=\"#000000\"/>\n<polygon fill=\"#000000\" points=\"2677.5011,-209.492 2667.346,-212.5124 2677.1682,-216.4841 2677.5011,-209.492\" stroke=\"#000000\"/>\n</g>\n<!-- 140264186130672&#45;&gt;140264175886800 -->\n<g class=\"edge\" id=\"edge24\">\n<title>140264186130672-&gt;140264175886800</title>\n<path d=\"M3612.9926,-253.0658C3598.8236,-251.5164 3584.6407,-250.1204 3571,-249 3298.7938,-226.6425 3000.0525,-212.6845 2734.4378,-203.971\" fill=\"none\" stroke=\"#000000\"/>\n<polygon fill=\"#000000\" points=\"2734.3169,-200.4653 2724.2081,-203.6375 2734.0887,-207.4616 2734.3169,-200.4653\" stroke=\"#000000\"/>\n</g>\n<!-- 140264185892936 -->\n<g class=\"node\" id=\"node26\">\n<title>140264185892936</title>\n<polygon fill=\"none\" points=\"1820.5,-83.5 1820.5,-129.5 2095.5,-129.5 2095.5,-83.5 1820.5,-83.5\" stroke=\"#000000\"/>\n<text fill=\"#000000\" font-family=\"Times,serif\" font-size=\"14.00\" text-anchor=\"middle\" x=\"1866.5\" y=\"-102.8\">dense: Dense</text>\n<polyline fill=\"none\" points=\"1912.5,-83.5 1912.5,-129.5 \" stroke=\"#000000\"/>\n<text fill=\"#000000\" font-family=\"Times,serif\" font-size=\"14.00\" text-anchor=\"middle\" x=\"1941.5\" y=\"-114.3\">input:</text>\n<polyline fill=\"none\" points=\"1912.5,-106.5 1970.5,-106.5 \" stroke=\"#000000\"/>\n<text fill=\"#000000\" font-family=\"Times,serif\" font-size=\"14.00\" text-anchor=\"middle\" x=\"1941.5\" y=\"-91.3\">output:</text>\n<polyline fill=\"none\" points=\"1970.5,-83.5 1970.5,-129.5 \" stroke=\"#000000\"/>\n<text fill=\"#000000\" font-family=\"Times,serif\" font-size=\"14.00\" text-anchor=\"middle\" x=\"2033\" y=\"-114.3\">(None, 5500, 240)</text>\n<polyline fill=\"none\" points=\"1970.5,-106.5 2095.5,-106.5 \" stroke=\"#000000\"/>\n<text fill=\"#000000\" font-family=\"Times,serif\" font-size=\"14.00\" text-anchor=\"middle\" x=\"2033\" y=\"-91.3\">(None, 5500, 128)</text>\n</g>\n<!-- 140264175886800&#45;&gt;140264185892936 -->\n<g class=\"edge\" id=\"edge25\">\n<title>140264175886800-&gt;140264185892936</title>\n<path d=\"M1958,-166.3799C1958,-158.1745 1958,-148.7679 1958,-139.8786\" fill=\"none\" stroke=\"#000000\"/>\n<polygon fill=\"#000000\" points=\"1961.5001,-139.784 1958,-129.784 1954.5001,-139.784 1961.5001,-139.784\" stroke=\"#000000\"/>\n</g>\n<!-- 140264183632504 -->\n<g class=\"node\" id=\"node27\">\n<title>140264183632504</title>\n<polygon fill=\"none\" points=\"1711,-.5 1711,-46.5 2205,-46.5 2205,-.5 1711,-.5\" stroke=\"#000000\"/>\n<text fill=\"#000000\" font-family=\"Times,serif\" font-size=\"14.00\" text-anchor=\"middle\" x=\"1866.5\" y=\"-19.8\">time_distributed(dense_1): TimeDistributed(Dense)</text>\n<polyline fill=\"none\" points=\"2022,-.5 2022,-46.5 \" stroke=\"#000000\"/>\n<text fill=\"#000000\" font-family=\"Times,serif\" font-size=\"14.00\" text-anchor=\"middle\" x=\"2051\" y=\"-31.3\">input:</text>\n<polyline fill=\"none\" points=\"2022,-23.5 2080,-23.5 \" stroke=\"#000000\"/>\n<text fill=\"#000000\" font-family=\"Times,serif\" font-size=\"14.00\" text-anchor=\"middle\" x=\"2051\" y=\"-8.3\">output:</text>\n<polyline fill=\"none\" points=\"2080,-.5 2080,-46.5 \" stroke=\"#000000\"/>\n<text fill=\"#000000\" font-family=\"Times,serif\" font-size=\"14.00\" text-anchor=\"middle\" x=\"2142.5\" y=\"-31.3\">(None, 5500, 128)</text>\n<polyline fill=\"none\" points=\"2080,-23.5 2205,-23.5 \" stroke=\"#000000\"/>\n<text fill=\"#000000\" font-family=\"Times,serif\" font-size=\"14.00\" text-anchor=\"middle\" x=\"2142.5\" y=\"-8.3\">(None, 5500, 1)</text>\n</g>\n<!-- 140264185892936&#45;&gt;140264183632504 -->\n<g class=\"edge\" id=\"edge26\">\n<title>140264185892936-&gt;140264183632504</title>\n<path d=\"M1958,-83.3799C1958,-75.1745 1958,-65.7679 1958,-56.8786\" fill=\"none\" stroke=\"#000000\"/>\n<polygon fill=\"#000000\" points=\"1961.5001,-56.784 1958,-46.784 1954.5001,-56.784 1961.5001,-56.784\" stroke=\"#000000\"/>\n</g>\n</g>\n</svg>"
          },
          "metadata": {
            "tags": []
          }
        }
      ]
    },
    {
      "cell_type": "code",
      "metadata": {
        "colab": {
          "base_uri": "https://localhost:8080/"
        },
        "id": "CSczxRoy1cnJ",
        "outputId": "517d3eda-4d89-41f4-acab-2e6dbf664eb6"
      },
      "source": [
        "history = model.fit([X_train[:,:1,:].reshape(X_train.shape[0],5500,1), X_train[:,1:2,:].reshape(X_train.shape[0],5500,1), X_train[:,2:3,:].reshape(X_train.shape[0],5500,1), X_train[:,3:4,:].reshape(X_train.shape[0],5500,1), X_train[:,4:5,:].reshape(X_train.shape[0],5500,1), X_train[:,5:6,:].reshape(X_train.shape[0],5500).reshape(X_train.shape[0],5500,1), \r\n",
        "                     X_train[:,6:7,:].reshape(X_train.shape[0],5500,1), X_train[:,7:8,:].reshape(X_train.shape[0],5500,1), X_train[:,8:9,:].reshape(X_train.shape[0],5500,1), X_train[:,9:10,:].reshape(X_train.shape[0],5500,1), X_train[:,10:11,:].reshape(X_train.shape[0],5500,1), X_train[:,11:12,:].reshape(X_train.shape[0],5500,1)]\r\n",
        "                    ,y_train[:,:1],batch_size=16, epochs=5)"
      ],
      "execution_count": 20,
      "outputs": [
        {
          "output_type": "stream",
          "text": [
            "Epoch 1/5\n",
            "1/1 [==============================] - 36s 36s/step - loss: 0.6160 - accuracy: 0.9855\n",
            "Epoch 2/5\n",
            "1/1 [==============================] - 20s 20s/step - loss: 0.4815 - accuracy: 1.0000\n",
            "Epoch 3/5\n",
            "1/1 [==============================] - 20s 20s/step - loss: 0.3718 - accuracy: 1.0000\n",
            "Epoch 4/5\n",
            "1/1 [==============================] - 20s 20s/step - loss: 0.2844 - accuracy: 1.0000\n",
            "Epoch 5/5\n",
            "1/1 [==============================] - 20s 20s/step - loss: 0.2160 - accuracy: 1.0000\n"
          ],
          "name": "stdout"
        }
      ]
    },
    {
      "cell_type": "code",
      "metadata": {
        "colab": {
          "base_uri": "https://localhost:8080/"
        },
        "id": "cXK_rBHgFJxd",
        "outputId": "b0fff80d-978a-4e72-98be-0aef7f49ca03"
      },
      "source": [
        "score = model.evaluate([X_test[:,:1,:].reshape(X_test.shape[0],5500,1), X_test[:,1:2,:].reshape(X_test.shape[0],5500,1), X_test[:,2:3,:].reshape(X_test.shape[0],5500,1), X_test[:,3:4,:].reshape(X_test.shape[0],5500,1), X_test[:,4:5,:].reshape(X_test.shape[0],5500,1), X_test[:,5:6,:].reshape(X_test.shape[0],5500).reshape(X_test.shape[0],5500,1), \r\n",
        "                     X_test[:,6:7,:].reshape(X_test.shape[0],5500,1), X_test[:,7:8,:].reshape(X_test.shape[0],5500,1), X_test[:,8:9,:].reshape(X_test.shape[0],5500,1), X_test[:,9:10,:].reshape(X_test.shape[0],5500,1), X_test[:,10:11,:].reshape(X_test.shape[0],5500,1), X_test[:,11:12,:].reshape(X_test.shape[0],5500,1)]\r\n",
        "                    ,y_test[:,:1], batch_size=16)"
      ],
      "execution_count": 23,
      "outputs": [
        {
          "output_type": "stream",
          "text": [
            "1/1 [==============================] - 2s 2s/step - loss: 1.0996 - accuracy: 0.5000\n"
          ],
          "name": "stdout"
        }
      ]
    }
  ]
}